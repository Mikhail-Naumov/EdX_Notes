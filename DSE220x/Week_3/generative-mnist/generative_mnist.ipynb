{
 "cells": [
  {
   "cell_type": "markdown",
   "metadata": {},
   "source": [
    "# Gaussian generative models for handwritten digit classification"
   ]
  },
  {
   "cell_type": "markdown",
   "metadata": {},
   "source": [
    "Recall that the 1-NN classifier yielded a 3.09% test error rate on the MNIST data set of handwritten digits. We will now see that a Gaussian generative model does almost as well, while being significantly faster and more compact."
   ]
  },
  {
   "cell_type": "markdown",
   "metadata": {},
   "source": [
    "## 1. Set up notebook and load in data"
   ]
  },
  {
   "cell_type": "markdown",
   "metadata": {},
   "source": [
    "As usual, we start by importing the required packages and data. For this notebook we will be using the *entire* `MNIST` dataset. The code below defines some helper functions that will load `MNIST` onto your computer."
   ]
  },
  {
   "cell_type": "code",
   "execution_count": 1,
   "metadata": {
    "ExecuteTime": {
     "end_time": "2018-10-31T01:59:18.210981Z",
     "start_time": "2018-10-31T01:59:16.963876Z"
    }
   },
   "outputs": [],
   "source": [
    "%matplotlib inline\n",
    "import sys\n",
    "import matplotlib.pyplot as plt \n",
    "import gzip, os\n",
    "import numpy as np\n",
    "from scipy.stats import multivariate_normal\n",
    "\n",
    "if sys.version_info[0] == 2:\n",
    "    from urllib import urlretrieve\n",
    "else:\n",
    "    from urllib.request import urlretrieve"
   ]
  },
  {
   "cell_type": "code",
   "execution_count": 2,
   "metadata": {},
   "outputs": [],
   "source": [
    "# Function that downloads a specified MNIST data file from Yann Le Cun's website\n",
    "def download(filename, source='http://yann.lecun.com/exdb/mnist/'):\n",
    "    print(\"Downloading %s\" % filename)\n",
    "    urlretrieve(source + filename, filename)\n",
    "\n",
    "# Invokes download() if necessary, then reads in images\n",
    "def load_mnist_images(filename):\n",
    "    if not os.path.exists(filename):\n",
    "        download(filename)\n",
    "    with gzip.open(filename, 'rb') as f:\n",
    "        data = np.frombuffer(f.read(), np.uint8, offset=16)\n",
    "    data = data.reshape(-1,784)\n",
    "    return data\n",
    "\n",
    "def load_mnist_labels(filename):\n",
    "    if not os.path.exists(filename):\n",
    "        download(filename)\n",
    "    with gzip.open(filename, 'rb') as f:\n",
    "        data = np.frombuffer(f.read(), np.uint8, offset=8)\n",
    "    return data"
   ]
  },
  {
   "cell_type": "markdown",
   "metadata": {},
   "source": [
    "Now load in the training set and test set"
   ]
  },
  {
   "cell_type": "code",
   "execution_count": 3,
   "metadata": {},
   "outputs": [],
   "source": [
    "## Load the training set\n",
    "train_data = load_mnist_images('train-images-idx3-ubyte.gz')\n",
    "train_labels = load_mnist_labels('train-labels-idx1-ubyte.gz')\n",
    "\n",
    "## Load the testing set\n",
    "test_data = load_mnist_images('t10k-images-idx3-ubyte.gz')\n",
    "test_labels = load_mnist_labels('t10k-labels-idx1-ubyte.gz')"
   ]
  },
  {
   "cell_type": "markdown",
   "metadata": {},
   "source": [
    "The function **displaychar** shows a single MNIST digit. To do this, it first has to reshape the 784-dimensional vector into a 28x28 image."
   ]
  },
  {
   "cell_type": "code",
   "execution_count": 4,
   "metadata": {},
   "outputs": [],
   "source": [
    "def displaychar(image):\n",
    "    plt.imshow(np.reshape(image, (28,28)), cmap=plt.cm.gray)\n",
    "    plt.axis('off')\n",
    "    plt.show()"
   ]
  },
  {
   "cell_type": "code",
   "execution_count": 5,
   "metadata": {},
   "outputs": [
    {
     "data": {
      "image/png": "[encoded data removed]",
      "text/plain": [
       "<matplotlib.figure.Figure at 0x1066c12e8>"
      ]
     },
     "metadata": {},
     "output_type": "display_data"
    }
   ],
   "source": [
    "displaychar(train_data[58])"
   ]
  },
  {
   "cell_type": "markdown",
   "metadata": {},
   "source": [
    "The training set consists of 60,000 images. Thus `train_data` should be a 60000x784 array while `train_labels` should be 60000x1. Let's check."
   ]
  },
  {
   "cell_type": "code",
   "execution_count": 9,
   "metadata": {},
   "outputs": [
    {
     "data": {
      "text/plain": [
       "((60000, 784), (60000,))"
      ]
     },
     "execution_count": 9,
     "metadata": {},
     "output_type": "execute_result"
    }
   ],
   "source": [
    "train_data.shape, train_labels.shape"
   ]
  },
  {
   "cell_type": "markdown",
   "metadata": {},
   "source": [
    "## 2. Fit a Gaussian generative model to the training data"
   ]
  },
  {
   "cell_type": "markdown",
   "metadata": {},
   "source": [
    "**<font color=\"magenta\">For you to do:</font>** Define a function, **fit_generative_model**, that takes as input a training set (data `x` and labels `y`) and fits a Gaussian generative model to it. It should return the parameters of this generative model; for each label `j = 0,1,...,9`, we have:\n",
    "* `pi[j]`: the frequency of that label\n",
    "* `mu[j]`: the 784-dimensional mean vector\n",
    "* `sigma[j]`: the 784x784 covariance matrix\n",
    "\n",
    "This means that `pi` is 10x1, `mu` is 10x784, and `sigma` is 10x784x784.\n",
    "\n",
    "We have already seen how to fit a Gaussian generative model in the Winery example, but now there is an added ingredient. <font color=\"magenta\">The empirical covariances are very likely to be singular (or close to singular), which means that we won't be able to do calculations with them</font>. Thus it is important to **regularize** these matrices. The standard way of doing this is to add `cI` to them, where `c` is some constant and `I` is the 784-dimensional identity matrix. (To put it another way, we compute the empirical covariances and then increase their diagonal entries by some constant `c`.)\n",
    "\n",
    "This modification is guaranteed to yield covariance matrices that are non-singular, for any `c > 0`, no matter how small. But this doesn't mean that we should make `c` as small as possible. Indeed, `c` is now a parameter, and by setting it appropriately, we can improve the performance of the model. We will study **regularization** in greater detail over the coming weeks.\n",
    "\n",
    "Your routine needs to choose a good setting of `c`. Crucially, this needs to be done using the training set alone. So you might try setting aside part of the training set as a validation set, or using some kind of cross-validation."
   ]
  },
  {
   "cell_type": "code",
   "execution_count": 6,
   "metadata": {},
   "outputs": [],
   "source": [
    "def fit_generative_model(x,y,c=1):\n",
    "    k = 10  # labels 0,1,...,k-1 #number of labels\n",
    "    d = (x.shape)[1]  # number of features\n",
    "    mu = np.zeros((k,d))\n",
    "    sigma = np.zeros((k,d,d)) #needs normalization... i think\n",
    "    pi = np.zeros(k)\n",
    "\n",
    "    \n",
    "    #\n",
    "    #enter code here\n",
    "    for label in range(0,k):\n",
    "        indices = (y == label)\n",
    "        mu[label] = np.mean(x[indices,:], axis=0)\n",
    "        sigma[label] = np.cov(x[indices,:], rowvar=0, bias=1)\n",
    "        sigma[label] = sigma[label] + np.identity(d) * c #treating singularity\n",
    "        pi[label] = float(sum(indices))/float(len(y))\n",
    "    #\n",
    "    #\n",
    "    \n",
    "    return mu, sigma, pi"
   ]
  },
  {
   "cell_type": "markdown",
   "metadata": {},
   "source": [
    "Okay, let's try out your function. In particular, we will use **displaychar** to visualize the means of the Gaussians for the first three digits. You can try the other digits on your own."
   ]
  },
  {
   "cell_type": "code",
   "execution_count": 19,
   "metadata": {},
   "outputs": [
    {
     "data": {
      "text/plain": [
       "(784,)"
      ]
     },
     "execution_count": 19,
     "metadata": {},
     "output_type": "execute_result"
    }
   ],
   "source": [
    "mu[0].shape"
   ]
  },
  {
   "cell_type": "code",
   "execution_count": 21,
   "metadata": {},
   "outputs": [
    {
     "data": {
      "text/plain": [
       "array([0.00000000e+00, 0.00000000e+00, 0.00000000e+00, 0.00000000e+00,\n",
       "       0.00000000e+00, 0.00000000e+00, 0.00000000e+00, 0.00000000e+00,\n",
       "       0.00000000e+00, 0.00000000e+00, 0.00000000e+00, 0.00000000e+00,\n",
       "       0.00000000e+00, 0.00000000e+00, 0.00000000e+00, 0.00000000e+00,\n",
       "       0.00000000e+00, 0.00000000e+00, 0.00000000e+00, 0.00000000e+00,\n",
       "       0.00000000e+00, 0.00000000e+00, 0.00000000e+00, 0.00000000e+00,\n",
       "       0.00000000e+00, 0.00000000e+00, 0.00000000e+00, 0.00000000e+00,\n",
       "       0.00000000e+00, 0.00000000e+00, 0.00000000e+00, 0.00000000e+00,\n",
       "       0.00000000e+00, 0.00000000e+00, 0.00000000e+00, 0.00000000e+00,\n",
       "       0.00000000e+00, 0.00000000e+00, 0.00000000e+00, 2.16106703e-02,\n",
       "       4.27148405e-02, 1.75586696e-02, 0.00000000e+00, 1.51950025e-02,\n",
       "       4.15330069e-02, 1.97535033e-02, 0.00000000e+00, 0.00000000e+00,\n",
       "       0.00000000e+00, 0.00000000e+00, 0.00000000e+00, 0.00000000e+00,\n",
       "       0.00000000e+00, 0.00000000e+00, 0.00000000e+00, 0.00000000e+00,\n",
       "       0.00000000e+00, 0.00000000e+00, 0.00000000e+00, 4.89616748e-03,\n",
       "       1.68833361e-03, 0.00000000e+00, 1.43508357e-02, 3.37666723e-02,\n",
       "       7.42866790e-03, 0.00000000e+00, 0.00000000e+00, 1.55326693e-02,\n",
       "       4.76110079e-02, 7.91828465e-02, 3.30913388e-02, 2.92081715e-02,\n",
       "       3.86628398e-02, 3.37666723e-03, 1.28313355e-02, 2.29613372e-02,\n",
       "       0.00000000e+00, 0.00000000e+00, 0.00000000e+00, 0.00000000e+00,\n",
       "       0.00000000e+00, 0.00000000e+00, 0.00000000e+00, 0.00000000e+00,\n",
       "       0.00000000e+00, 0.00000000e+00, 0.00000000e+00, 1.41820024e-02,\n",
       "       2.09353368e-02, 6.53385109e-02, 5.58838426e-02, 6.19618437e-02,\n",
       "       1.17339186e-01, 2.20496370e-01, 5.00253250e-01, 1.24396421e+00,\n",
       "       2.12459902e+00, 3.14317069e+00, 3.83572514e+00, 4.54566942e+00,\n",
       "       4.69609995e+00, 3.81495864e+00, 2.84804997e+00, 2.37447240e+00,\n",
       "       1.65456694e+00, 8.24919804e-01, 3.30069222e-01, 1.19365187e-01,\n",
       "       4.30525072e-02, 1.23248354e-02, 0.00000000e+00, 0.00000000e+00,\n",
       "       0.00000000e+00, 0.00000000e+00, 0.00000000e+00, 2.71821712e-02,\n",
       "       2.76886713e-02, 5.58838426e-02, 1.93989532e-01, 5.31149755e-01,\n",
       "       1.45635658e+00, 3.60020260e+00, 7.11548202e+00, 1.40236367e+01,\n",
       "       2.52868479e+01, 3.94941752e+01, 5.25252406e+01, 6.34772919e+01,\n",
       "       6.64516292e+01, 6.13076144e+01, 4.97042040e+01, 3.60930272e+01,\n",
       "       2.16370083e+01, 1.08802971e+01, 4.37278406e+00, 1.02093534e+00,\n",
       "       1.83521864e-01, 2.92081715e-02, 0.00000000e+00, 0.00000000e+00,\n",
       "       0.00000000e+00, 0.00000000e+00, 0.00000000e+00, 4.52473409e-02,\n",
       "       5.48708425e-02, 1.52794192e-01, 7.24970454e-01, 1.92064832e+00,\n",
       "       4.92064832e+00, 1.18340368e+01, 2.40788452e+01, 4.37899713e+01,\n",
       "       6.93879791e+01, 9.93557319e+01, 1.25425291e+02, 1.43593787e+02,\n",
       "       1.50248860e+02, 1.40837751e+02, 1.18460240e+02, 8.93553942e+01,\n",
       "       5.74030052e+01, 3.15519163e+01, 1.34095897e+01, 3.62012494e+00,\n",
       "       5.11396252e-01, 2.38055040e-02, 0.00000000e+00, 0.00000000e+00,\n",
       "       0.00000000e+00, 0.00000000e+00, 0.00000000e+00, 0.00000000e+00,\n",
       "       1.75924363e-01, 7.26489954e-01, 1.82762114e+00, 4.90460915e+00,\n",
       "       1.25750464e+01, 2.76542293e+01, 5.16734763e+01, 8.33202769e+01,\n",
       "       1.17412122e+02, 1.49421746e+02, 1.72802465e+02, 1.87696606e+02,\n",
       "       1.92355732e+02, 1.88217457e+02, 1.71446227e+02, 1.39417187e+02,\n",
       "       1.01447915e+02, 6.23474591e+01, 3.06557488e+01, 9.88401148e+00,\n",
       "       1.27047105e+00, 6.60138443e-02, 1.38443356e-02, 1.23248354e-02,\n",
       "       0.00000000e+00, 0.00000000e+00, 0.00000000e+00, 1.38443356e-02,\n",
       "       1.99392200e-01, 1.17946986e+00, 3.49366875e+00, 1.07546851e+01,\n",
       "       2.58716866e+01, 5.17210873e+01, 8.52345095e+01, 1.21673139e+02,\n",
       "       1.52586189e+02, 1.73433058e+02, 1.84851427e+02, 1.88353199e+02,\n",
       "       1.89904440e+02, 1.92355563e+02, 1.88563228e+02, 1.70838426e+02,\n",
       "       1.37588384e+02, 9.52446395e+01, 5.40082728e+01, 2.06606449e+01,\n",
       "       3.55900726e+00, 1.67820361e-01, 1.85716698e-03, 2.60003377e-02,\n",
       "       8.94816816e-03, 0.00000000e+00, 1.55326693e-02, 2.68445045e-02,\n",
       "       2.36366706e-01, 1.74438629e+00, 7.12392369e+00, 2.09910518e+01,\n",
       "       4.60376498e+01, 8.04421746e+01, 1.18452980e+02, 1.50514604e+02,\n",
       "       1.69338511e+02, 1.72984130e+02, 1.66849569e+02, 1.58131521e+02,\n",
       "       1.54210704e+02, 1.57828128e+02, 1.69155327e+02, 1.74331926e+02,\n",
       "       1.60731386e+02, 1.24455344e+02, 7.84740841e+01, 3.45557994e+01,\n",
       "       7.14367719e+00, 1.24936687e-01, 0.00000000e+00, 0.00000000e+00,\n",
       "       0.00000000e+00, 0.00000000e+00, 7.25983454e-03, 4.74421746e-02,\n",
       "       4.24278237e-01, 3.29005572e+00, 1.40768192e+01, 3.71647814e+01,\n",
       "       7.07568800e+01, 1.11128145e+02, 1.46315381e+02, 1.65972987e+02,\n",
       "       1.66737971e+02, 1.52715347e+02, 1.30635826e+02, 1.12062975e+02,\n",
       "       1.01862738e+02, 1.07411785e+02, 1.29605605e+02, 1.56401823e+02,\n",
       "       1.65400642e+02, 1.45392706e+02, 1.02169340e+02, 5.01657944e+01,\n",
       "       1.16962688e+01, 1.51950025e-01, 0.00000000e+00, 0.00000000e+00,\n",
       "       0.00000000e+00, 0.00000000e+00, 2.34678372e-02, 4.01823400e-02,\n",
       "       7.63464461e-01, 7.16072936e+00, 2.54614216e+01, 5.76147223e+01,\n",
       "       9.80761438e+01, 1.37864764e+02, 1.62340030e+02, 1.65696775e+02,\n",
       "       1.46791491e+02, 1.17051663e+02, 8.76442681e+01, 6.50933648e+01,\n",
       "       5.53572514e+01, 6.29387135e+01, 9.03996286e+01, 1.29825089e+02,\n",
       "       1.59314199e+02, 1.56585176e+02, 1.21562384e+02, 6.58858686e+01,\n",
       "       1.71468850e+01, 2.95289549e-01, 0.00000000e+00, 0.00000000e+00,\n",
       "       0.00000000e+00, 5.57150093e-03, 0.00000000e+00, 4.28836738e-02,\n",
       "       1.56120209e+00, 1.32527435e+01, 4.07518150e+01, 8.19008948e+01,\n",
       "       1.25017390e+02, 1.57514266e+02, 1.66239912e+02, 1.48794192e+02,\n",
       "       1.13159885e+02, 7.77516461e+01, 4.88767516e+01, 3.19505318e+01,\n",
       "       2.70354550e+01, 3.67582306e+01, 6.37712308e+01, 1.08713996e+02,\n",
       "       1.49643255e+02, 1.60777309e+02, 1.33214587e+02, 7.91038325e+01,\n",
       "       2.29495188e+01, 5.37565423e-01, 3.66368394e-02, 0.00000000e+00,\n",
       "       0.00000000e+00, 2.70133378e-03, 1.02988350e-02, 4.30525072e-02,\n",
       "       2.85058248e+00, 2.21288199e+01, 6.03219652e+01, 1.07499578e+02,\n",
       "       1.47137937e+02, 1.66739321e+02, 1.56911531e+02, 1.20302381e+02,\n",
       "       7.70045585e+01, 4.32743542e+01, 2.27057235e+01, 1.43461084e+01,\n",
       "       1.38748945e+01, 2.39366875e+01, 5.14642917e+01, 9.65757218e+01,\n",
       "       1.41301368e+02, 1.59609320e+02, 1.37786595e+02, 8.71793010e+01,\n",
       "       2.80901570e+01, 7.77139963e-01, 2.92081715e-02, 0.00000000e+00,\n",
       "       0.00000000e+00, 1.06365018e-02, 2.93770049e-02, 8.81310147e-02,\n",
       "       5.08374135e+00, 3.49446227e+01, 8.18598683e+01, 1.31085767e+02,\n",
       "       1.62069391e+02, 1.65100625e+02, 1.35434915e+02, 8.73714334e+01,\n",
       "       4.49924025e+01, 2.00032078e+01, 9.87556981e+00, 6.78321796e+00,\n",
       "       8.16174236e+00, 1.97641398e+01, 4.89908830e+01, 9.30604423e+01,\n",
       "       1.38327199e+02, 1.57976363e+02, 1.36578761e+02, 8.84705386e+01,\n",
       "       3.08110755e+01, 1.06635151e+00, 3.37666723e-03, 0.00000000e+00,\n",
       "       0.00000000e+00, 0.00000000e+00, 0.00000000e+00, 4.94681749e-02,\n",
       "       8.50396758e+00, 5.02345095e+01, 1.03103664e+02, 1.50317238e+02,\n",
       "       1.69329563e+02, 1.53464798e+02, 1.08729529e+02, 5.75628904e+01,\n",
       "       2.38549721e+01, 9.48488941e+00, 4.96657099e+00, 4.13810569e+00,\n",
       "       7.35742023e+00, 2.28311666e+01, 5.51109235e+01, 1.00017728e+02,\n",
       "       1.41578930e+02, 1.55384265e+02, 1.30772750e+02, 8.38223873e+01,\n",
       "       3.06319433e+01, 1.26574371e+00, 0.00000000e+00, 0.00000000e+00,\n",
       "       0.00000000e+00, 0.00000000e+00, 0.00000000e+00, 6.48320108e-02,\n",
       "       1.35152794e+01, 6.59733243e+01, 1.21427993e+02, 1.62011481e+02,\n",
       "       1.68285497e+02, 1.36719905e+02, 8.37616073e+01, 3.67779841e+01,\n",
       "       1.32026000e+01, 4.83133547e+00, 3.13776802e+00, 4.52388992e+00,\n",
       "       1.17703866e+01, 3.35468513e+01, 7.01458720e+01, 1.14732399e+02,\n",
       "       1.47533176e+02, 1.49903090e+02, 1.20614722e+02, 7.39790647e+01,\n",
       "       2.63069391e+01, 1.11227419e+00, 0.00000000e+00, 0.00000000e+00,\n",
       "       0.00000000e+00, 0.00000000e+00, 0.00000000e+00, 1.27638021e-01,\n",
       "       1.85971636e+01, 7.90011818e+01, 1.34472565e+02, 1.67875570e+02,\n",
       "       1.62385447e+02, 1.19934999e+02, 6.50950532e+01, 2.58878946e+01,\n",
       "       8.79149080e+00, 3.86375148e+00, 4.38071923e+00, 9.45939558e+00,\n",
       "       2.38225561e+01, 5.36153976e+01, 9.48808036e+01, 1.34124261e+02,\n",
       "       1.52592943e+02, 1.40566774e+02, 1.04575046e+02, 5.94462266e+01,\n",
       "       1.94874219e+01, 8.00945467e-01, 0.00000000e+00, 2.02600034e-03,\n",
       "       0.00000000e+00, 0.00000000e+00, 0.00000000e+00, 2.15769036e-01,\n",
       "       2.37607631e+01, 8.70780010e+01, 1.40799764e+02, 1.69699983e+02,\n",
       "       1.57424785e+02, 1.11242107e+02, 5.73729529e+01, 2.33388486e+01,\n",
       "       1.01679892e+01, 7.80128313e+00, 1.20332602e+01, 2.46278913e+01,\n",
       "       4.93999662e+01, 8.61212224e+01, 1.24764309e+02, 1.50340706e+02,\n",
       "       1.50997805e+02, 1.23905960e+02, 8.39664022e+01, 4.21225730e+01,\n",
       "       1.23422252e+01, 5.07850751e-01, 0.00000000e+00, 1.75586696e-02,\n",
       "       0.00000000e+00, 0.00000000e+00, 0.00000000e+00, 3.01198717e-01,\n",
       "       2.58629073e+01, 8.65612021e+01, 1.40125612e+02, 1.69892453e+02,\n",
       "       1.59591254e+02, 1.15993415e+02, 6.64528111e+01, 3.43736282e+01,\n",
       "       2.23111599e+01, 2.38855310e+01, 3.53965896e+01, 5.80769880e+01,\n",
       "       8.97303731e+01, 1.24445551e+02, 1.50310991e+02, 1.56258484e+02,\n",
       "       1.36338342e+02, 9.94777984e+01, 6.04843829e+01, 2.63275367e+01,\n",
       "       6.58078676e+00, 2.31808205e-01, 0.00000000e+00, 0.00000000e+00,\n",
       "       0.00000000e+00, 8.77933480e-03, 8.61050144e-03, 4.20395070e-01,\n",
       "       2.41321965e+01, 7.84620969e+01, 1.32488097e+02, 1.68021611e+02,\n",
       "       1.68552254e+02, 1.38979065e+02, 9.74977207e+01, 6.76078001e+01,\n",
       "       5.75588384e+01, 6.29307783e+01, 8.05814621e+01, 1.06251224e+02,\n",
       "       1.34748607e+02, 1.56419551e+02, 1.60791997e+02, 1.42654060e+02,\n",
       "       1.09112274e+02, 7.17302043e+01, 3.73717711e+01, 1.34393044e+01,\n",
       "       2.53317576e+00, 8.98193483e-02, 0.00000000e+00, 0.00000000e+00,\n",
       "       0.00000000e+00, 2.21171704e-02, 1.53638359e-02, 3.54212392e-01,\n",
       "       1.82265744e+01, 6.19280770e+01, 1.15215094e+02, 1.58810231e+02,\n",
       "       1.79116157e+02, 1.73178119e+02, 1.49807868e+02, 1.28028026e+02,\n",
       "       1.18882661e+02, 1.23364849e+02, 1.37657437e+02, 1.55898025e+02,\n",
       "       1.67281952e+02, 1.65603748e+02, 1.45026000e+02, 1.12009286e+02,\n",
       "       7.59625190e+01, 4.31521189e+01, 1.84702009e+01, 5.26861388e+00,\n",
       "       8.37413473e-01, 2.65068378e-02, 2.43120041e-02, 0.00000000e+00,\n",
       "       0.00000000e+00, 0.00000000e+00, 6.41566774e-03, 3.16393719e-01,\n",
       "       1.08164781e+01, 4.09388823e+01, 8.59501942e+01, 1.34849063e+02,\n",
       "       1.73100794e+02, 1.94344927e+02, 1.96039001e+02, 1.88320952e+02,\n",
       "       1.81725815e+02, 1.80017221e+02, 1.81842310e+02, 1.80588553e+02,\n",
       "       1.67523721e+02, 1.41645281e+02, 1.07816309e+02, 7.25448253e+01,\n",
       "       4.18190106e+01, 1.92900557e+01, 6.52203275e+00, 1.65372278e+00,\n",
       "       2.88705048e-01, 2.04288367e-02, 7.41178457e-02, 6.58450110e-03,\n",
       "       0.00000000e+00, 0.00000000e+00, 0.00000000e+00, 1.56002026e-01,\n",
       "       4.09505318e+00, 2.02046260e+01, 5.06960999e+01, 9.11902752e+01,\n",
       "       1.34731386e+02, 1.70967246e+02, 1.93493838e+02, 2.01603579e+02,\n",
       "       2.00716360e+02, 1.94187067e+02, 1.79877427e+02, 1.56380044e+02,\n",
       "       1.25544994e+02, 9.17249705e+01, 5.95885531e+01, 3.38892453e+01,\n",
       "       1.55763971e+01, 5.78304913e+00, 1.66402161e+00, 4.28836738e-01,\n",
       "       1.20378187e-01, 2.75198379e-02, 2.60003377e-02, 1.21560020e-02,\n",
       "       0.00000000e+00, 0.00000000e+00, 0.00000000e+00, 9.96116833e-03,\n",
       "       8.63920311e-01, 5.60830660e+00, 1.76950869e+01, 4.00293770e+01,\n",
       "       6.96603073e+01, 1.01347459e+02, 1.27711633e+02, 1.44157015e+02,\n",
       "       1.46726659e+02, 1.34837076e+02, 1.13661658e+02, 8.68877258e+01,\n",
       "       6.04421746e+01, 3.73856154e+01, 1.99078170e+01, 8.81394564e+00,\n",
       "       3.26912038e+00, 9.90714165e-01, 3.31757555e-01, 1.60391693e-01,\n",
       "       7.47931791e-02, 1.72210029e-02, 0.00000000e+00, 0.00000000e+00,\n",
       "       0.00000000e+00, 0.00000000e+00, 0.00000000e+00, 0.00000000e+00,\n",
       "       1.64106027e-01, 5.99864933e-01, 2.28549721e+00, 5.90292082e+00,\n",
       "       1.20688840e+01, 2.05058248e+01, 2.91936519e+01, 3.50729360e+01,\n",
       "       3.69103495e+01, 3.41325342e+01, 2.75556306e+01, 1.95503968e+01,\n",
       "       1.20736113e+01, 6.62502110e+00, 2.91558332e+00, 1.14080702e+00,\n",
       "       3.94225899e-01, 1.29326355e-01, 7.09100118e-02, 4.82863414e-02,\n",
       "       2.16106703e-02, 1.18183353e-02, 0.00000000e+00, 0.00000000e+00,\n",
       "       0.00000000e+00, 0.00000000e+00, 0.00000000e+00, 0.00000000e+00,\n",
       "       0.00000000e+00, 0.00000000e+00, 5.90916765e-03, 4.64291744e-02,\n",
       "       1.71028195e-01, 3.24835387e-01, 4.39135573e-01, 5.30305588e-01,\n",
       "       4.25291238e-01, 3.62485227e-01, 2.42613540e-01, 1.45027858e-01,\n",
       "       1.10754685e-01, 4.44031741e-02, 8.27283471e-03, 0.00000000e+00,\n",
       "       0.00000000e+00, 0.00000000e+00, 0.00000000e+00, 0.00000000e+00,\n",
       "       0.00000000e+00, 0.00000000e+00, 0.00000000e+00, 0.00000000e+00,\n",
       "       0.00000000e+00, 0.00000000e+00, 0.00000000e+00, 0.00000000e+00,\n",
       "       0.00000000e+00, 0.00000000e+00, 0.00000000e+00, 0.00000000e+00,\n",
       "       0.00000000e+00, 0.00000000e+00, 0.00000000e+00, 0.00000000e+00,\n",
       "       0.00000000e+00, 0.00000000e+00, 0.00000000e+00, 0.00000000e+00,\n",
       "       0.00000000e+00, 0.00000000e+00, 0.00000000e+00, 0.00000000e+00,\n",
       "       0.00000000e+00, 0.00000000e+00, 0.00000000e+00, 0.00000000e+00,\n",
       "       0.00000000e+00, 0.00000000e+00, 0.00000000e+00, 0.00000000e+00,\n",
       "       0.00000000e+00, 0.00000000e+00, 0.00000000e+00, 0.00000000e+00,\n",
       "       0.00000000e+00, 0.00000000e+00, 0.00000000e+00, 0.00000000e+00,\n",
       "       0.00000000e+00, 0.00000000e+00, 0.00000000e+00, 0.00000000e+00,\n",
       "       0.00000000e+00, 0.00000000e+00, 0.00000000e+00, 0.00000000e+00,\n",
       "       0.00000000e+00, 0.00000000e+00, 0.00000000e+00, 0.00000000e+00,\n",
       "       0.00000000e+00, 0.00000000e+00, 0.00000000e+00, 0.00000000e+00,\n",
       "       0.00000000e+00, 0.00000000e+00, 0.00000000e+00, 0.00000000e+00])"
      ]
     },
     "execution_count": 21,
     "metadata": {},
     "output_type": "execute_result"
    }
   ],
   "source": [
    "mu[0]"
   ]
  },
  {
   "cell_type": "code",
   "execution_count": 20,
   "metadata": {},
   "outputs": [
    {
     "data": {
      "text/plain": [
       "array([[1., 0., 0., ..., 0., 0., 0.],\n",
       "       [0., 1., 0., ..., 0., 0., 0.],\n",
       "       [0., 0., 1., ..., 0., 0., 0.],\n",
       "       ...,\n",
       "       [0., 0., 0., ..., 1., 0., 0.],\n",
       "       [0., 0., 0., ..., 0., 1., 0.],\n",
       "       [0., 0., 0., ..., 0., 0., 1.]])"
      ]
     },
     "execution_count": 20,
     "metadata": {},
     "output_type": "execute_result"
    }
   ],
   "source": [
    "sigma[0]"
   ]
  },
  {
   "cell_type": "code",
   "execution_count": 7,
   "metadata": {},
   "outputs": [
    {
     "data": {
      "image/png": "[encoded data removed]",
      "text/plain": [
       "<matplotlib.figure.Figure at 0x1a0dbe1a58>"
      ]
     },
     "metadata": {},
     "output_type": "display_data"
    },
    {
     "data": {
      "image/png": "[encoded data removed]",
      "text/plain": [
       "<matplotlib.figure.Figure at 0x1a0dbe1b00>"
      ]
     },
     "metadata": {},
     "output_type": "display_data"
    },
    {
     "data": {
      "image/png": "[encoded data removed]",
      "text/plain": [
       "<matplotlib.figure.Figure at 0x1a0dba9080>"
      ]
     },
     "metadata": {},
     "output_type": "display_data"
    },
    {
     "data": {
      "image/png": "[encoded data removed]",
      "text/plain": [
       "<matplotlib.figure.Figure at 0x1a16c7f748>"
      ]
     },
     "metadata": {},
     "output_type": "display_data"
    }
   ],
   "source": [
    "mu, sigma, pi = fit_generative_model(train_data, train_labels)\n",
    "displaychar(mu[0])\n",
    "displaychar(mu[1])\n",
    "displaychar(mu[2])\n",
    "displaychar(mu[9])"
   ]
  },
  {
   "cell_type": "markdown",
   "metadata": {},
   "source": [
    "## 3. Make predictions on test data"
   ]
  },
  {
   "cell_type": "code",
   "execution_count": null,
   "metadata": {},
   "outputs": [],
   "source": []
  },
  {
   "cell_type": "code",
   "execution_count": 8,
   "metadata": {},
   "outputs": [
    {
     "ename": "NameError",
     "evalue": "name 'k' is not defined",
     "output_type": "error",
     "traceback": [
      "\u001b[0;31m---------------------------------------------------------------------------\u001b[0m",
      "\u001b[0;31mNameError\u001b[0m                                 Traceback (most recent call last)",
      "\u001b[0;32m<ipython-input-8-e4503ec6d888>\u001b[0m in \u001b[0;36m<module>\u001b[0;34m()\u001b[0m\n\u001b[1;32m      1\u001b[0m \u001b[0;31m# Compute log Pr(label|image) for each [test image,label] pair.\u001b[0m\u001b[0;34m\u001b[0m\u001b[0;34m\u001b[0m\u001b[0m\n\u001b[0;32m----> 2\u001b[0;31m \u001b[0mscore\u001b[0m \u001b[0;34m=\u001b[0m \u001b[0mnp\u001b[0m\u001b[0;34m.\u001b[0m\u001b[0mzeros\u001b[0m\u001b[0;34m(\u001b[0m\u001b[0;34m(\u001b[0m\u001b[0mlen\u001b[0m\u001b[0;34m(\u001b[0m\u001b[0mtest_labels\u001b[0m\u001b[0;34m)\u001b[0m\u001b[0;34m,\u001b[0m\u001b[0mk\u001b[0m\u001b[0;34m)\u001b[0m\u001b[0;34m)\u001b[0m\u001b[0;34m\u001b[0m\u001b[0m\n\u001b[0m\u001b[1;32m      3\u001b[0m \u001b[0;32mfor\u001b[0m \u001b[0mlabel\u001b[0m \u001b[0;32min\u001b[0m \u001b[0mrange\u001b[0m\u001b[0;34m(\u001b[0m\u001b[0;36m0\u001b[0m\u001b[0;34m,\u001b[0m\u001b[0mk\u001b[0m\u001b[0;34m)\u001b[0m\u001b[0;34m:\u001b[0m\u001b[0;34m\u001b[0m\u001b[0m\n\u001b[1;32m      4\u001b[0m     \u001b[0mprint\u001b[0m\u001b[0;34m(\u001b[0m\u001b[0;34m'running label:{}'\u001b[0m\u001b[0;34m.\u001b[0m\u001b[0mformat\u001b[0m\u001b[0;34m(\u001b[0m\u001b[0mlabel\u001b[0m\u001b[0;34m)\u001b[0m\u001b[0;34m)\u001b[0m\u001b[0;34m\u001b[0m\u001b[0m\n\u001b[1;32m      5\u001b[0m     \u001b[0mrv\u001b[0m \u001b[0;34m=\u001b[0m \u001b[0mmultivariate_normal\u001b[0m\u001b[0;34m(\u001b[0m\u001b[0mmean\u001b[0m\u001b[0;34m=\u001b[0m\u001b[0mmu\u001b[0m\u001b[0;34m[\u001b[0m\u001b[0mlabel\u001b[0m\u001b[0;34m]\u001b[0m\u001b[0;34m,\u001b[0m \u001b[0mcov\u001b[0m\u001b[0;34m=\u001b[0m\u001b[0msigma\u001b[0m\u001b[0;34m[\u001b[0m\u001b[0mlabel\u001b[0m\u001b[0;34m]\u001b[0m\u001b[0;34m)\u001b[0m\u001b[0;34m\u001b[0m\u001b[0m\n",
      "\u001b[0;31mNameError\u001b[0m: name 'k' is not defined"
     ]
    }
   ],
   "source": [
    "k = 10\n",
    "\n",
    "# Compute log Pr(label|image) for each [test image,label] pair.\n",
    "score = np.zeros((len(test_labels),k))\n",
    "for label in range(0,k):\n",
    "    print('running label:{}'.format(label))\n",
    "    rv = multivariate_normal(mean=mu[label], cov=sigma[label])\n",
    "    for i in range(0,len(test_labels)):\n",
    "        score[i,label] = np.log(pi[label]) + rv.logpdf(test_data[i,:])\n",
    "predictions = np.argmax(score, axis=1)\n",
    "# Finally, tally up score\n",
    "errors = np.sum(predictions != test_labels)\n",
    "print(\"Your model makes \" + str(errors) + \" errors out of 10000\")"
   ]
  },
  {
   "cell_type": "code",
   "execution_count": 10,
   "metadata": {},
   "outputs": [],
   "source": [
    "def qq(c=1):\n",
    "    mu, sigma, pi = fit_generative_model(train_data, train_labels,c)\n",
    "    k = 10\n",
    "    \n",
    "    # Compute log Pr(label|image) for each [test image,label] pair.\n",
    "    score = np.zeros((len(test_labels),k))\n",
    "    for label in range(0,k):\n",
    "        print('running label:{}'.format(label))\n",
    "        rv = multivariate_normal(mean=mu[label], cov=sigma[label])\n",
    "        for i in range(0,len(test_labels)):\n",
    "            score[i,label] = np.log(pi[label]) + rv.logpdf(test_data[i,:])\n",
    "    predictions = np.argmax(score, axis=1)\n",
    "    # Finally, tally up score\n",
    "    errors = np.sum(predictions != test_labels)\n",
    "    print('finished c:{}'.format(c))\n",
    "    return errors"
   ]
  },
  {
   "cell_type": "code",
   "execution_count": 13,
   "metadata": {},
   "outputs": [
    {
     "name": "stdout",
     "output_type": "stream",
     "text": [
      "running label:0\n",
      "running label:1\n",
      "running label:2\n",
      "running label:3\n",
      "running label:4\n",
      "running label:5\n",
      "running label:6\n",
      "running label:7\n",
      "running label:8\n",
      "running label:9\n",
      "finished c:500\n",
      "running label:0\n",
      "running label:1\n",
      "running label:2\n",
      "running label:3\n",
      "running label:4\n",
      "running label:5\n",
      "running label:6\n",
      "running label:7\n",
      "running label:8\n",
      "running label:9\n",
      "finished c:1000\n",
      "running label:0\n",
      "running label:1\n",
      "running label:2\n",
      "running label:3\n",
      "running label:4\n",
      "running label:5\n",
      "running label:6\n",
      "running label:7\n",
      "running label:8\n",
      "running label:9\n",
      "finished c:1500\n",
      "running label:0\n",
      "running label:1\n",
      "running label:2\n",
      "running label:3\n",
      "running label:4\n",
      "running label:5\n",
      "running label:6\n",
      "running label:7\n",
      "running label:8\n",
      "running label:9\n",
      "finished c:2000\n",
      "running label:0\n",
      "running label:1\n",
      "running label:2\n",
      "running label:3\n",
      "running label:4\n",
      "running label:5\n",
      "running label:6\n",
      "running label:7\n",
      "running label:8\n",
      "running label:9\n",
      "finished c:2500\n",
      "running label:0\n",
      "running label:1\n",
      "running label:2\n",
      "running label:3\n",
      "running label:4\n",
      "running label:5\n",
      "running label:6\n",
      "running label:7\n",
      "running label:8\n",
      "running label:9\n",
      "finished c:3000\n",
      "running label:0\n",
      "running label:1\n",
      "running label:2\n",
      "running label:3\n",
      "running label:4\n",
      "running label:5\n",
      "running label:6\n",
      "running label:7\n",
      "running label:8\n",
      "running label:9\n",
      "finished c:3500\n",
      "running label:0\n",
      "running label:1\n",
      "running label:2\n",
      "running label:3\n",
      "running label:4\n",
      "running label:5\n",
      "running label:6\n",
      "running label:7\n",
      "running label:8\n",
      "running label:9\n",
      "finished c:4000\n",
      "running label:0\n",
      "running label:1\n",
      "running label:2\n",
      "running label:3\n",
      "running label:4\n",
      "running label:5\n",
      "running label:6\n",
      "running label:7\n",
      "running label:8\n",
      "running label:9\n",
      "finished c:4500\n",
      "running label:0\n",
      "running label:1\n",
      "running label:2\n",
      "running label:3\n",
      "running label:4\n",
      "running label:5\n",
      "running label:6\n",
      "running label:7\n",
      "running label:8\n",
      "running label:9\n",
      "finished c:5000\n",
      "running label:0\n",
      "running label:1\n",
      "running label:2\n",
      "running label:3\n",
      "running label:4\n",
      "running label:5\n",
      "running label:6\n",
      "running label:7\n",
      "running label:8\n",
      "running label:9\n",
      "finished c:10000\n"
     ]
    }
   ],
   "source": [
    "results = {i:qq(i) for i in [500,1000,1500,2000,2500,3000,3500,4000,4500,5000,10000]}"
   ]
  },
  {
   "cell_type": "code",
   "execution_count": 14,
   "metadata": {},
   "outputs": [
    {
     "data": {
      "text/plain": [
       "{500: 563,\n",
       " 1000: 489,\n",
       " 1500: 451,\n",
       " 2000: 437,\n",
       " 2500: 434,\n",
       " 3000: 435,\n",
       " 3500: 438,\n",
       " 4000: 431,\n",
       " 4500: 435,\n",
       " 5000: 438,\n",
       " 10000: 508}"
      ]
     },
     "execution_count": 14,
     "metadata": {},
     "output_type": "execute_result"
    }
   ],
   "source": [
    "results"
   ]
  },
  {
   "cell_type": "markdown",
   "metadata": {},
   "source": [
    "## 4. Quick exercises"
   ]
  },
  {
   "cell_type": "markdown",
   "metadata": {},
   "source": [
    "*You will need to answer variants of these questions as part of this week's assignment*."
   ]
  },
  {
   "cell_type": "markdown",
   "metadata": {},
   "source": [
    "<font color=\"magenta\">Exercise 1:</font> What happens if you do not regularize the covariance matrices?"
   ]
  },
  {
   "cell_type": "markdown",
   "metadata": {},
   "source": [
    "The multivariate distribution is a singularity matrix? huh?!?"
   ]
  },
  {
   "cell_type": "markdown",
   "metadata": {},
   "source": [
    "<font color=\"magenta\">Exercise 2:</font> What happens if you set the value of `c` too high, for instance to one billion? Do you understand why this happens?"
   ]
  },
  {
   "cell_type": "markdown",
   "metadata": {},
   "source": [
    "Error would increase, because it would be overfit and apply too much weighting on he cov"
   ]
  },
  {
   "cell_type": "markdown",
   "metadata": {},
   "source": [
    "<font color=\"magenta\">Exercise 3:</font> What value of c did you end up using? How many errors did your model make on the training set?"
   ]
  },
  {
   "cell_type": "code",
   "execution_count": 22,
   "metadata": {},
   "outputs": [
    {
     "data": {
      "text/plain": [
       "(4000, 431)"
      ]
     },
     "execution_count": 22,
     "metadata": {},
     "output_type": "execute_result"
    }
   ],
   "source": [
    "4000, 431"
   ]
  },
  {
   "cell_type": "markdown",
   "metadata": {},
   "source": [
    "<font color=\"magenta\">If you have the time</font>: We have talked about using the same regularization constant `c` for all ten classes. What about using a different value of `c` for each class? How would you go about choosing these? Can you get better performance in this way?"
   ]
  },
  {
   "cell_type": "code",
   "execution_count": 23,
   "metadata": {},
   "outputs": [
    {
     "name": "stdout",
     "output_type": "stream",
     "text": [
      "Object `weight` not found.\n"
     ]
    }
   ],
   "source": [
    "would that be related to the weight?"
   ]
  }
 ],
 "metadata": {
  "kernelspec": {
   "display_name": "Python [default]",
   "language": "python",
   "name": "python3"
  },
  "language_info": {
   "codemirror_mode": {
    "name": "ipython",
    "version": 3
   },
   "file_extension": ".py",
   "mimetype": "text/x-python",
   "name": "python",
   "nbconvert_exporter": "python",
   "pygments_lexer": "ipython3",
   "version": "3.6.4"
  },
  "toc": {
   "colors": {
    "hover_highlight": "#DAA520",
    "navigate_num": "#000000",
    "navigate_text": "#333333",
    "running_highlight": "#FF0000",
    "selected_highlight": "#FFD700",
    "sidebar_border": "#EEEEEE",
    "wrapper_background": "#FFFFFF"
   },
   "moveMenuLeft": true,
   "nav_menu": {
    "height": "12px",
    "width": "252px"
   },
   "navigate_menu": true,
   "number_sections": false,
   "sideBar": true,
   "threshold": 4,
   "toc_cell": false,
   "toc_section_display": "block",
   "toc_window_display": false,
   "widenNotebook": false
  }
 },
 "nbformat": 4,
 "nbformat_minor": 1
}
