{
 "cells": [
  {
   "cell_type": "markdown",
   "metadata": {},
   "source": [
    "# Winery classification with the bivariate Gaussian\n",
    "\n",
    "Our first generative model for Winery classification used just one feature. Now we use two features, modeling each class by a **bivariate Gaussian**."
   ]
  },
  {
   "cell_type": "markdown",
   "metadata": {},
   "source": [
    "## 1. Load in the data set"
   ]
  },
  {
   "cell_type": "markdown",
   "metadata": {},
   "source": [
    "As in the univariate case, we start by loading in the Wine data set. Make sure the file `wine.data.txt` is in the same directory as this notebook.\n",
    "\n",
    "Recall that there are 178 data points, each with 13 features and a label (1,2,3). As before, we will divide this into a training set of 130 points and a test set of 48 points."
   ]
  },
  {
   "cell_type": "code",
   "execution_count": 1,
   "metadata": {
    "ExecuteTime": {
     "end_time": "2018-10-31T01:09:33.243880Z",
     "start_time": "2018-10-31T01:09:32.611471Z"
    }
   },
   "outputs": [],
   "source": [
    "# Standard includes\n",
    "%matplotlib inline\n",
    "import numpy as np\n",
    "import matplotlib.pyplot as plt\n",
    "# Useful module for dealing with the Gaussian density\n",
    "from scipy.stats import norm, multivariate_normal \n",
    "# installing packages for interactive graphs\n",
    "import ipywidgets as widgets\n",
    "from IPython.display import display\n",
    "from ipywidgets import interact, interactive, fixed, interact_manual, IntSlider"
   ]
  },
  {
   "cell_type": "code",
   "execution_count": 2,
   "metadata": {
    "ExecuteTime": {
     "end_time": "2018-10-31T01:09:33.256771Z",
     "start_time": "2018-10-31T01:09:33.246797Z"
    }
   },
   "outputs": [],
   "source": [
    "# Load data set.\n",
    "data = np.loadtxt('wine.data.txt', delimiter=',')\n",
    "# Names of features\n",
    "featurenames = ['Alcohol', 'Malic acid', 'Ash', 'Alcalinity of ash','Magnesium', 'Total phenols', \n",
    "                'Flavanoids', 'Nonflavanoid phenols', 'Proanthocyanins', 'Color intensity', 'Hue', \n",
    "                'OD280/OD315 of diluted wines', 'Proline']\n",
    "# Split 178 instances into training set (trainx, trainy) of size 130 and test set (testx, testy) of size 48\n",
    "np.random.seed(0)\n",
    "perm = np.random.permutation(178)\n",
    "trainx = data[perm[0:130],1:14]\n",
    "trainy = data[perm[0:130],0]\n",
    "testx = data[perm[130:178], 1:14]\n",
    "testy = data[perm[130:178],0]"
   ]
  },
  {
   "cell_type": "code",
   "execution_count": null,
   "metadata": {},
   "outputs": [],
   "source": []
  },
  {
   "cell_type": "markdown",
   "metadata": {},
   "source": [
    "## 2. Look at the distribution of two features from one of the wineries"
   ]
  },
  {
   "cell_type": "markdown",
   "metadata": {},
   "source": [
    "Our goal is to plot the distribution of two features from a particular winery. We will use several helper functions for this. It is worth understanding each of these."
   ]
  },
  {
   "cell_type": "markdown",
   "metadata": {},
   "source": [
    "The first helper function fits a Gaussian to a data set, restricting attention to specified features.\n",
    "It returns the mean and covariance matrix of the Gaussian."
   ]
  },
  {
   "cell_type": "code",
   "execution_count": 3,
   "metadata": {
    "ExecuteTime": {
     "end_time": "2018-10-31T01:09:42.650665Z",
     "start_time": "2018-10-31T01:09:42.646650Z"
    }
   },
   "outputs": [],
   "source": [
    "# Fit a Gaussian to a data set using the selected features\n",
    "def fit_gaussian(x, features):\n",
    "    mu = np.mean(x[:,features], axis=0)\n",
    "    covar = np.cov(x[:,features], rowvar=0, bias=1)\n",
    "    return mu, covar"
   ]
  },
  {
   "cell_type": "markdown",
   "metadata": {},
   "source": [
    "For example, let's look at the Gaussian we get for winery 1, using features 0 ('alcohol') and 6 ('flavanoids')."
   ]
  },
  {
   "cell_type": "code",
   "execution_count": 4,
   "metadata": {
    "ExecuteTime": {
     "end_time": "2018-10-31T01:09:45.007364Z",
     "start_time": "2018-10-31T01:09:44.989412Z"
    }
   },
   "outputs": [
    {
     "name": "stdout",
     "output_type": "stream",
     "text": [
      "Mean:\n",
      "[13.78534884  2.99627907]\n",
      "Covariance matrix:\n",
      "[[0.23325279 0.07526874]\n",
      " [0.07526874 0.15240941]]\n"
     ]
    }
   ],
   "source": [
    "f1 = 0\n",
    "f2 = 6\n",
    "label = 1\n",
    "mu, covar = fit_gaussian(trainx[trainy==label,:], [f1,f2])\n",
    "print(\"Mean:\\n\" + str(mu))\n",
    "print(\"Covariance matrix:\\n\" + str(covar))"
   ]
  },
  {
   "cell_type": "markdown",
   "metadata": {},
   "source": [
    "Next, we will construct a routine for displaying points sampled from a two-dimensional Gaussian, as well as a few contour lines. Part of doing this involves deciding what range to use for each axis. We begin with a little helper function that takes as input an array of numbers (values along a single feature) and returns the range in which these numbers lie."
   ]
  },
  {
   "cell_type": "code",
   "execution_count": 5,
   "metadata": {
    "ExecuteTime": {
     "end_time": "2018-10-31T01:13:08.708156Z",
     "start_time": "2018-10-31T01:13:08.704139Z"
    }
   },
   "outputs": [],
   "source": [
    "# Find the range within which an array of numbers lie, with a little buffer\n",
    "def find_range(x):\n",
    "    lower = min(x)\n",
    "    upper = max(x)\n",
    "    width = upper - lower\n",
    "    lower = lower - 0.2 * width\n",
    "    upper = upper + 0.2 * width\n",
    "    return lower, upper"
   ]
  },
  {
   "cell_type": "markdown",
   "metadata": {},
   "source": [
    "Next we define a routine that plots a few contour lines of a given two-dimensional Gaussian.\n",
    "It takes as input:\n",
    "* `mu`, `cov`: the parameters of the Gaussian\n",
    "* `x1g`, `x2g`: the grid (along the two axes) at which the density is to be computed\n",
    "* `col`: the color of the contour lines"
   ]
  },
  {
   "cell_type": "code",
   "execution_count": 6,
   "metadata": {
    "ExecuteTime": {
     "end_time": "2018-10-31T01:13:09.260678Z",
     "start_time": "2018-10-31T01:13:09.253669Z"
    }
   },
   "outputs": [],
   "source": [
    "def plot_contours(mu, cov, x1g, x2g, col):\n",
    "    rv = multivariate_normal(mean=mu, cov=cov)\n",
    "    z = np.zeros((len(x1g),len(x2g)))\n",
    "    for i in range(0,len(x1g)):\n",
    "        for j in range(0,len(x2g)):\n",
    "            z[j,i] = rv.logpdf([x1g[i], x2g[j]]) \n",
    "    sign, logdet = np.linalg.slogdet(cov)\n",
    "    normalizer = -0.5 * (2 * np.log(6.28) + sign * logdet)\n",
    "    for offset in range(1,4):\n",
    "        plt.contour(x1g,x2g,z, levels=[normalizer - offset], colors=col, linewidths=2.0, linestyles='solid')"
   ]
  },
  {
   "cell_type": "markdown",
   "metadata": {},
   "source": [
    "The function **two_features_plot** takes an input two features and a label, and displays the distribution for the specified winery and pair of features.\n",
    "\n",
    "The first line allows you to specify the parameters interactively using sliders."
   ]
  },
  {
   "cell_type": "code",
   "execution_count": 7,
   "metadata": {
    "ExecuteTime": {
     "end_time": "2018-10-31T01:13:10.012643Z",
     "start_time": "2018-10-31T01:13:09.953800Z"
    },
    "code_folding": []
   },
   "outputs": [
    {
     "data": {
      "application/vnd.jupyter.widget-view+json": {
       "model_id": "8c5870102bbf47689e4548ea8e3693c4",
       "version_major": 2,
       "version_minor": 0
      },
      "text/plain": [
       "interactive(children=(IntSlider(value=0, description='f1', max=12), IntSlider(value=6, description='f2', max=1…"
      ]
     },
     "metadata": {},
     "output_type": "display_data"
    }
   ],
   "source": [
    "@interact_manual( f1=IntSlider(0,0,12,1), f2=IntSlider(6,0,12,1), label=IntSlider(1,1,3,1) )\n",
    "def two_features_plot(f1,f2,label):\n",
    "    if f1 == f2: # we need f1 != f2\n",
    "        print(\"Please choose different features for f1 and f2.\")\n",
    "        return  \n",
    "    \n",
    "    # Set up plot\n",
    "    x1_lower, x1_upper = find_range(trainx[trainy==label,f1])\n",
    "    x2_lower, x2_upper = find_range(trainx[trainy==label,f2])\n",
    "    plt.xlim(x1_lower, x1_upper) # limit along x1-axis\n",
    "    plt.ylim(x2_lower, x2_upper) # limit along x2-axis\n",
    "    \n",
    "    # Plot the training points along the two selected features\n",
    "    plt.plot(trainx[trainy==label, f1], trainx[trainy==label, f2], 'ro')\n",
    "\n",
    "    # Define a grid along each axis; the density will be computed at each grid point\n",
    "    res = 200 # resolution\n",
    "    x1g = np.linspace(x1_lower, x1_upper, res)\n",
    "    x2g = np.linspace(x2_lower, x2_upper, res)\n",
    "\n",
    "    # Now plot a few contour lines of the density\n",
    "    mu, cov = fit_gaussian(trainx[trainy==label,:], [f1,f2])\n",
    "    plot_contours(mu, cov, x1g, x2g, 'k')\n",
    "    \n",
    "    # Finally, display\n",
    "    plt.xlabel(featurenames[f1], fontsize=14, color='red')\n",
    "    plt.ylabel(featurenames[f2], fontsize=14, color='red')\n",
    "    plt.title('Class ' + str(label), fontsize=14, color='blue')\n",
    "    plt.show()"
   ]
  },
  {
   "cell_type": "markdown",
   "metadata": {},
   "source": [
    "## 3. Fit a Gaussian to each class"
   ]
  },
  {
   "cell_type": "markdown",
   "metadata": {},
   "source": [
    "We now define a function that will fit a Gaussian generative model to the three classes, restricted to a given list of features. The function returns:\n",
    "* `mu`: the means of the Gaussians, one per row\n",
    "* `covar`: covariance matrices of each of the Gaussians\n",
    "* `pi`: list of three class weights summing to 1"
   ]
  },
  {
   "cell_type": "code",
   "execution_count": 8,
   "metadata": {
    "ExecuteTime": {
     "end_time": "2018-10-31T01:18:53.884140Z",
     "start_time": "2018-10-31T01:18:53.878128Z"
    }
   },
   "outputs": [],
   "source": [
    "# Assumes y takes on values 1,2,3\n",
    "def fit_generative_model(x, y, features):\n",
    "    k = 3 # number of classes\n",
    "    d = len(features) # number of features\n",
    "    mu = np.zeros((k+1,d)) # list of means\n",
    "    covar = np.zeros((k+1,d,d)) # list of covariance matrices\n",
    "    pi = np.zeros(k+1) # list of class weights\n",
    "    for label in range(1,k+1):\n",
    "        indices = (y==label)\n",
    "        mu[label,:], covar[label,:,:] = fit_gaussian(x[indices,:], features)\n",
    "        pi[label] = float(sum(indices))/float(len(y))\n",
    "    return mu, covar, pi"
   ]
  },
  {
   "cell_type": "code",
   "execution_count": 10,
   "metadata": {
    "ExecuteTime": {
     "end_time": "2018-10-31T01:19:47.587570Z",
     "start_time": "2018-10-31T01:19:47.579591Z"
    }
   },
   "outputs": [],
   "source": [
    "mu, covar, pi =fit_generative_model(trainx,trainy,[f1,f2])"
   ]
  },
  {
   "cell_type": "code",
   "execution_count": 11,
   "metadata": {
    "ExecuteTime": {
     "end_time": "2018-10-31T01:19:49.499460Z",
     "start_time": "2018-10-31T01:19:49.494472Z"
    }
   },
   "outputs": [
    {
     "data": {
      "text/plain": [
       "array([[ 0.        ,  0.        ],\n",
       "       [13.78534884,  2.99627907],\n",
       "       [12.31092593,  2.10907407],\n",
       "       [13.15969697,  0.75727273]])"
      ]
     },
     "execution_count": 11,
     "metadata": {},
     "output_type": "execute_result"
    }
   ],
   "source": [
    "mu"
   ]
  },
  {
   "cell_type": "code",
   "execution_count": 12,
   "metadata": {
    "ExecuteTime": {
     "end_time": "2018-10-31T01:19:58.158343Z",
     "start_time": "2018-10-31T01:19:58.152358Z"
    }
   },
   "outputs": [
    {
     "data": {
      "text/plain": [
       "array([[[ 0.        ,  0.        ],\n",
       "        [ 0.        ,  0.        ]],\n",
       "\n",
       "       [[ 0.23325279,  0.07526874],\n",
       "        [ 0.07526874,  0.15240941]],\n",
       "\n",
       "       [[ 0.2819047 , -0.03911211],\n",
       "        [-0.03911211,  0.56869729]],\n",
       "\n",
       "       [[ 0.2851787 ,  0.01006887],\n",
       "        [ 0.01006887,  0.07375317]]])"
      ]
     },
     "execution_count": 12,
     "metadata": {},
     "output_type": "execute_result"
    }
   ],
   "source": [
    "covar"
   ]
  },
  {
   "cell_type": "markdown",
   "metadata": {},
   "source": [
    "Now we will plot the three Gaussians."
   ]
  },
  {
   "cell_type": "code",
   "execution_count": 15,
   "metadata": {
    "ExecuteTime": {
     "end_time": "2018-10-31T01:23:58.542796Z",
     "start_time": "2018-10-31T01:23:58.507112Z"
    }
   },
   "outputs": [
    {
     "data": {
      "application/vnd.jupyter.widget-view+json": {
       "model_id": "8118aa2eebc94612bc1e90fcfc5aeba6",
       "version_major": 2,
       "version_minor": 0
      },
      "text/plain": [
       "interactive(children=(IntSlider(value=0, description='f1', max=12), IntSlider(value=6, description='f2', max=1…"
      ]
     },
     "metadata": {},
     "output_type": "display_data"
    }
   ],
   "source": [
    "@interact_manual( f1=IntSlider(0,0,12,1), f2=IntSlider(6,0,12,1) )\n",
    "def three_class_plot(f1,f2):\n",
    "    if f1 == f2: # we need f1 != f2\n",
    "        print(\"Please choose different features for f1 and f2.\")\n",
    "        return  \n",
    "    \n",
    "    # Set up plot\n",
    "    x1_lower, x1_upper = find_range(trainx[:,f1])\n",
    "    x2_lower, x2_upper = find_range(trainx[:,f2])\n",
    "    plt.xlim(x1_lower, x1_upper) # limit along x1-axis\n",
    "    plt.ylim(x2_lower, x2_upper) # limit along x2-axis\n",
    "    \n",
    "    # Plot the training points along the two selected features\n",
    "    colors = ['r', 'k', 'g']\n",
    "    for label in range(1,4):\n",
    "        plt.plot(trainx[trainy==label,f1], trainx[trainy==label,f2], marker='o', ls='None', c=colors[label-1])\n",
    "\n",
    "    # Define a grid along each axis; the density will be computed at each grid point\n",
    "    res = 200 # resolution\n",
    "    x1g = np.linspace(x1_lower, x1_upper, res)\n",
    "    x2g = np.linspace(x2_lower, x2_upper, res)\n",
    "\n",
    "    # Show the Gaussian fit to each class, using features f1,f2\n",
    "    mu, covar, pi = fit_generative_model(trainx, trainy, [f1,f2])\n",
    "    for label in range(1,4):\n",
    "        gmean = mu[label,:]\n",
    "        gcov = covar[label,:,:]\n",
    "        plot_contours(gmean, gcov, x1g, x2g, colors[label-1])\n",
    "\n",
    "    # Finally, display\n",
    "    plt.xlabel(featurenames[f1], fontsize=14, color='red')\n",
    "    plt.ylabel(featurenames[f2], fontsize=14, color='red')\n",
    "    plt.title('Wine data', fontsize=14, color='blue')\n",
    "    plt.show()"
   ]
  },
  {
   "cell_type": "markdown",
   "metadata": {},
   "source": [
    "## 4. Predict labels for the test points"
   ]
  },
  {
   "cell_type": "markdown",
   "metadata": {},
   "source": [
    "How well we can predict the class (1,2,3) based just on these two features?\n",
    "\n",
    "We start with a testing procedure that is analogous to what we developed in the 1-d case."
   ]
  },
  {
   "cell_type": "code",
   "execution_count": 16,
   "metadata": {
    "ExecuteTime": {
     "end_time": "2018-10-31T01:24:00.062734Z",
     "start_time": "2018-10-31T01:23:59.999929Z"
    }
   },
   "outputs": [
    {
     "data": {
      "application/vnd.jupyter.widget-view+json": {
       "model_id": "50b4c041d5cb481884ab3b98c93da33a",
       "version_major": 2,
       "version_minor": 0
      },
      "text/plain": [
       "interactive(children=(IntSlider(value=0, description='f1', max=12), IntSlider(value=6, description='f2', max=1…"
      ]
     },
     "metadata": {},
     "output_type": "display_data"
    }
   ],
   "source": [
    "# Now test the performance of a predictor based on a subset of features\n",
    "@interact( f1=IntSlider(0,0,12,1), f2=IntSlider(6,0,12,1) )\n",
    "def test_model(f1, f2):\n",
    "    if f1 == f2: # need f1 != f2\n",
    "        print(\"Please choose different features for f1 and f2.\")\n",
    "        return\n",
    "    features= [f1,f2]\n",
    "    mu, covar, pi = fit_generative_model(trainx, trainy, features)\n",
    "    \n",
    "    k = 3 # Labels 1,2,...,k\n",
    "    nt = len(testy) # Number of test points\n",
    "    score = np.zeros((nt,k+1))\n",
    "    for i in range(0,nt):\n",
    "        for label in range(1,k+1):\n",
    "            score[i,label] = np.log(pi[label]) + \\\n",
    "            multivariate_normal.logpdf(testx[i,features], mean=mu[label,:], cov=covar[label,:,:])\n",
    "    predictions = np.argmax(score[:,1:4], axis=1) + 1\n",
    "    # Finally, tally up score\n",
    "    errors = np.sum(predictions != testy)\n",
    "    print(\"Test error using feature(s): \", end=' ')\n",
    "    for f in features:\n",
    "        print(\"'\" + featurenames[f] + \"'\" + \" \", end=' ')\n",
    "    print()\n",
    "    print(\"Errors: \" + str(errors) + \"/\" + str(nt))# Now test the performance of a predictor based on a subset of features\n",
    "    return(errors)"
   ]
  },
  {
   "cell_type": "code",
   "execution_count": 17,
   "metadata": {
    "ExecuteTime": {
     "end_time": "2018-10-31T01:24:05.896149Z",
     "start_time": "2018-10-31T01:24:01.287725Z"
    }
   },
   "outputs": [
    {
     "name": "stdout",
     "output_type": "stream",
     "text": [
      "Please choose different features for f1 and f2.\n",
      "Test error using feature(s):  'Alcohol'  'Malic acid'  \n",
      "Errors: 9/48\n",
      "Test error using feature(s):  'Alcohol'  'Ash'  \n",
      "Errors: 12/48\n",
      "Test error using feature(s):  'Alcohol'  'Alcalinity of ash'  \n",
      "Errors: 9/48\n",
      "Test error using feature(s):  'Alcohol'  'Magnesium'  \n",
      "Errors: 14/48\n",
      "Test error using feature(s):  'Alcohol'  'Total phenols'  \n",
      "Errors: 5/48\n",
      "Test error using feature(s):  'Alcohol'  'Flavanoids'  \n",
      "Errors: 4/48\n",
      "Test error using feature(s):  'Alcohol'  'Nonflavanoid phenols'  \n",
      "Errors: 10/48\n",
      "Test error using feature(s):  'Alcohol'  'Proanthocyanins'  \n",
      "Errors: 8/48\n",
      "Test error using feature(s):  'Alcohol'  'Color intensity'  \n",
      "Errors: 8/48\n",
      "Test error using feature(s):  'Alcohol'  'Hue'  \n",
      "Errors: 6/48\n",
      "Test error using feature(s):  'Alcohol'  'OD280/OD315 of diluted wines'  \n",
      "Errors: 5/48\n",
      "Test error using feature(s):  'Alcohol'  'Proline'  \n",
      "Errors: 9/48\n",
      "Test error using feature(s):  'Malic acid'  'Alcohol'  \n",
      "Errors: 9/48\n",
      "Please choose different features for f1 and f2.\n",
      "Test error using feature(s):  'Malic acid'  'Ash'  \n",
      "Errors: 22/48\n",
      "Test error using feature(s):  'Malic acid'  'Alcalinity of ash'  \n",
      "Errors: 16/48\n",
      "Test error using feature(s):  'Malic acid'  'Magnesium'  \n",
      "Errors: 11/48\n",
      "Test error using feature(s):  'Malic acid'  'Total phenols'  \n",
      "Errors: 12/48\n",
      "Test error using feature(s):  'Malic acid'  'Flavanoids'  \n",
      "Errors: 9/48\n",
      "Test error using feature(s):  'Malic acid'  'Nonflavanoid phenols'  \n",
      "Errors: 21/48\n",
      "Test error using feature(s):  'Malic acid'  'Proanthocyanins'  \n",
      "Errors: 14/48\n",
      "Test error using feature(s):  'Malic acid'  'Color intensity'  \n",
      "Errors: 11/48\n",
      "Test error using feature(s):  'Malic acid'  'Hue'  \n",
      "Errors: 16/48\n",
      "Test error using feature(s):  'Malic acid'  'OD280/OD315 of diluted wines'  \n",
      "Errors: 15/48\n",
      "Test error using feature(s):  'Malic acid'  'Proline'  \n",
      "Errors: 9/48\n",
      "Test error using feature(s):  'Ash'  'Alcohol'  \n",
      "Errors: 12/48\n",
      "Test error using feature(s):  'Ash'  'Malic acid'  \n",
      "Errors: 22/48\n",
      "Please choose different features for f1 and f2.\n",
      "Test error using feature(s):  'Ash'  'Alcalinity of ash'  \n",
      "Errors: 18/48\n",
      "Test error using feature(s):  'Ash'  'Magnesium'  \n",
      "Errors: 23/48\n",
      "Test error using feature(s):  'Ash'  'Total phenols'  \n",
      "Errors: 16/48\n",
      "Test error using feature(s):  'Ash'  'Flavanoids'  \n",
      "Errors: 10/48\n",
      "Test error using feature(s):  'Ash'  'Nonflavanoid phenols'  \n",
      "Errors: 22/48\n",
      "Test error using feature(s):  'Ash'  'Proanthocyanins'  \n",
      "Errors: 21/48\n",
      "Test error using feature(s):  'Ash'  'Color intensity'  \n",
      "Errors: 13/48\n",
      "Test error using feature(s):  'Ash'  'Hue'  \n",
      "Errors: 13/48\n",
      "Test error using feature(s):  'Ash'  'OD280/OD315 of diluted wines'  \n",
      "Errors: 13/48\n",
      "Test error using feature(s):  'Ash'  'Proline'  \n",
      "Errors: 15/48\n",
      "Test error using feature(s):  'Alcalinity of ash'  'Alcohol'  \n",
      "Errors: 9/48\n",
      "Test error using feature(s):  'Alcalinity of ash'  'Malic acid'  \n",
      "Errors: 16/48\n",
      "Test error using feature(s):  'Alcalinity of ash'  'Ash'  \n",
      "Errors: 18/48\n",
      "Please choose different features for f1 and f2.\n",
      "Test error using feature(s):  'Alcalinity of ash'  'Magnesium'  \n",
      "Errors: 11/48\n",
      "Test error using feature(s):  'Alcalinity of ash'  'Total phenols'  \n",
      "Errors: 12/48\n",
      "Test error using feature(s):  'Alcalinity of ash'  'Flavanoids'  \n",
      "Errors: 8/48\n",
      "Test error using feature(s):  'Alcalinity of ash'  'Nonflavanoid phenols'  \n",
      "Errors: 19/48\n",
      "Test error using feature(s):  'Alcalinity of ash'  'Proanthocyanins'  \n",
      "Errors: 20/48\n",
      "Test error using feature(s):  'Alcalinity of ash'  'Color intensity'  \n",
      "Errors: 11/48\n",
      "Test error using feature(s):  'Alcalinity of ash'  'Hue'  \n",
      "Errors: 7/48\n",
      "Test error using feature(s):  'Alcalinity of ash'  'OD280/OD315 of diluted wines'  \n",
      "Errors: 9/48\n",
      "Test error using feature(s):  'Alcalinity of ash'  'Proline'  \n",
      "Errors: 13/48\n",
      "Test error using feature(s):  'Magnesium'  'Alcohol'  \n",
      "Errors: 14/48\n",
      "Test error using feature(s):  'Magnesium'  'Malic acid'  \n",
      "Errors: 11/48\n",
      "Test error using feature(s):  'Magnesium'  'Ash'  \n",
      "Errors: 23/48\n",
      "Test error using feature(s):  'Magnesium'  'Alcalinity of ash'  \n",
      "Errors: 11/48\n",
      "Please choose different features for f1 and f2.\n",
      "Test error using feature(s):  'Magnesium'  'Total phenols'  \n",
      "Errors: 11/48\n",
      "Test error using feature(s):  'Magnesium'  'Flavanoids'  \n",
      "Errors: 7/48\n",
      "Test error using feature(s):  'Magnesium'  'Nonflavanoid phenols'  \n",
      "Errors: 18/48\n",
      "Test error using feature(s):  'Magnesium'  'Proanthocyanins'  \n",
      "Errors: 9/48\n",
      "Test error using feature(s):  'Magnesium'  'Color intensity'  \n",
      "Errors: 10/48\n",
      "Test error using feature(s):  'Magnesium'  'Hue'  \n",
      "Errors: 7/48\n",
      "Test error using feature(s):  'Magnesium'  'OD280/OD315 of diluted wines'  \n",
      "Errors: 7/48\n",
      "Test error using feature(s):  'Magnesium'  'Proline'  \n",
      "Errors: 14/48\n",
      "Test error using feature(s):  'Total phenols'  'Alcohol'  \n",
      "Errors: 5/48\n",
      "Test error using feature(s):  'Total phenols'  'Malic acid'  \n",
      "Errors: 12/48\n",
      "Test error using feature(s):  'Total phenols'  'Ash'  \n",
      "Errors: 16/48\n",
      "Test error using feature(s):  'Total phenols'  'Alcalinity of ash'  \n",
      "Errors: 12/48\n",
      "Test error using feature(s):  'Total phenols'  'Magnesium'  \n",
      "Errors: 11/48\n",
      "Please choose different features for f1 and f2.\n",
      "Test error using feature(s):  'Total phenols'  'Flavanoids'  \n",
      "Errors: 7/48\n",
      "Test error using feature(s):  'Total phenols'  'Nonflavanoid phenols'  \n",
      "Errors: 13/48\n",
      "Test error using feature(s):  'Total phenols'  'Proanthocyanins'  \n",
      "Errors: 15/48\n",
      "Test error using feature(s):  'Total phenols'  'Color intensity'  \n",
      "Errors: 5/48\n",
      "Test error using feature(s):  'Total phenols'  'Hue'  \n",
      "Errors: 8/48\n",
      "Test error using feature(s):  'Total phenols'  'OD280/OD315 of diluted wines'  \n",
      "Errors: 10/48\n",
      "Test error using feature(s):  'Total phenols'  'Proline'  \n",
      "Errors: 9/48\n",
      "Test error using feature(s):  'Flavanoids'  'Alcohol'  \n",
      "Errors: 4/48\n",
      "Test error using feature(s):  'Flavanoids'  'Malic acid'  \n",
      "Errors: 9/48\n",
      "Test error using feature(s):  'Flavanoids'  'Ash'  \n",
      "Errors: 10/48\n",
      "Test error using feature(s):  'Flavanoids'  'Alcalinity of ash'  \n",
      "Errors: 8/48\n",
      "Test error using feature(s):  'Flavanoids'  'Magnesium'  \n",
      "Errors: 7/48\n",
      "Test error using feature(s):  'Flavanoids'  'Total phenols'  \n",
      "Errors: 7/48\n",
      "Please choose different features for f1 and f2.\n",
      "Test error using feature(s):  'Flavanoids'  'Nonflavanoid phenols'  \n",
      "Errors: 8/48\n",
      "Test error using feature(s):  'Flavanoids'  'Proanthocyanins'  \n",
      "Errors: 8/48\n",
      "Test error using feature(s):  'Flavanoids'  'Color intensity'  \n",
      "Errors: 3/48\n",
      "Test error using feature(s):  'Flavanoids'  'Hue'  \n",
      "Errors: 4/48\n",
      "Test error using feature(s):  'Flavanoids'  'OD280/OD315 of diluted wines'  \n",
      "Errors: 7/48\n",
      "Test error using feature(s):  'Flavanoids'  'Proline'  \n",
      "Errors: 4/48\n",
      "Test error using feature(s):  'Nonflavanoid phenols'  'Alcohol'  \n",
      "Errors: 10/48\n",
      "Test error using feature(s):  'Nonflavanoid phenols'  'Malic acid'  \n",
      "Errors: 21/48\n",
      "Test error using feature(s):  'Nonflavanoid phenols'  'Ash'  \n",
      "Errors: 22/48\n",
      "Test error using feature(s):  'Nonflavanoid phenols'  'Alcalinity of ash'  \n",
      "Errors: 19/48\n",
      "Test error using feature(s):  'Nonflavanoid phenols'  'Magnesium'  \n",
      "Errors: 18/48\n",
      "Test error using feature(s):  'Nonflavanoid phenols'  'Total phenols'  \n",
      "Errors: 13/48\n",
      "Test error using feature(s):  'Nonflavanoid phenols'  'Flavanoids'  \n",
      "Errors: 8/48\n",
      "Please choose different features for f1 and f2.\n",
      "Test error using feature(s):  'Nonflavanoid phenols'  'Proanthocyanins'  \n",
      "Errors: 18/48\n",
      "Test error using feature(s):  'Nonflavanoid phenols'  'Color intensity'  \n",
      "Errors: 12/48\n",
      "Test error using feature(s):  'Nonflavanoid phenols'  'Hue'  \n",
      "Errors: 14/48\n",
      "Test error using feature(s):  'Nonflavanoid phenols'  'OD280/OD315 of diluted wines'  \n",
      "Errors: 13/48\n",
      "Test error using feature(s):  'Nonflavanoid phenols'  'Proline'  \n",
      "Errors: 11/48\n",
      "Test error using feature(s):  'Proanthocyanins'  'Alcohol'  \n",
      "Errors: 8/48\n",
      "Test error using feature(s):  'Proanthocyanins'  'Malic acid'  \n",
      "Errors: 14/48\n",
      "Test error using feature(s):  'Proanthocyanins'  'Ash'  \n",
      "Errors: 21/48\n",
      "Test error using feature(s):  'Proanthocyanins'  'Alcalinity of ash'  \n",
      "Errors: 20/48\n",
      "Test error using feature(s):  'Proanthocyanins'  'Magnesium'  \n",
      "Errors: 9/48\n",
      "Test error using feature(s):  'Proanthocyanins'  'Total phenols'  \n",
      "Errors: 15/48\n",
      "Test error using feature(s):  'Proanthocyanins'  'Flavanoids'  \n",
      "Errors: 8/48\n",
      "Test error using feature(s):  'Proanthocyanins'  'Nonflavanoid phenols'  \n",
      "Errors: 18/48\n",
      "Please choose different features for f1 and f2.\n",
      "Test error using feature(s):  'Proanthocyanins'  'Color intensity'  \n",
      "Errors: 5/48\n",
      "Test error using feature(s):  'Proanthocyanins'  'Hue'  \n",
      "Errors: 11/48\n",
      "Test error using feature(s):  'Proanthocyanins'  'OD280/OD315 of diluted wines'  \n",
      "Errors: 16/48\n"
     ]
    },
    {
     "name": "stdout",
     "output_type": "stream",
     "text": [
      "Test error using feature(s):  'Proanthocyanins'  'Proline'  \n",
      "Errors: 10/48\n",
      "Test error using feature(s):  'Color intensity'  'Alcohol'  \n",
      "Errors: 8/48\n",
      "Test error using feature(s):  'Color intensity'  'Malic acid'  \n",
      "Errors: 11/48\n",
      "Test error using feature(s):  'Color intensity'  'Ash'  \n",
      "Errors: 13/48\n",
      "Test error using feature(s):  'Color intensity'  'Alcalinity of ash'  \n",
      "Errors: 11/48\n",
      "Test error using feature(s):  'Color intensity'  'Magnesium'  \n",
      "Errors: 10/48\n",
      "Test error using feature(s):  'Color intensity'  'Total phenols'  \n",
      "Errors: 5/48\n",
      "Test error using feature(s):  'Color intensity'  'Flavanoids'  \n",
      "Errors: 3/48\n",
      "Test error using feature(s):  'Color intensity'  'Nonflavanoid phenols'  \n",
      "Errors: 12/48\n",
      "Test error using feature(s):  'Color intensity'  'Proanthocyanins'  \n",
      "Errors: 5/48\n",
      "Please choose different features for f1 and f2.\n",
      "Test error using feature(s):  'Color intensity'  'Hue'  \n",
      "Errors: 8/48\n",
      "Test error using feature(s):  'Color intensity'  'OD280/OD315 of diluted wines'  \n",
      "Errors: 9/48\n",
      "Test error using feature(s):  'Color intensity'  'Proline'  \n",
      "Errors: 5/48\n",
      "Test error using feature(s):  'Hue'  'Alcohol'  \n",
      "Errors: 6/48\n",
      "Test error using feature(s):  'Hue'  'Malic acid'  \n",
      "Errors: 16/48\n",
      "Test error using feature(s):  'Hue'  'Ash'  \n",
      "Errors: 13/48\n",
      "Test error using feature(s):  'Hue'  'Alcalinity of ash'  \n",
      "Errors: 7/48\n",
      "Test error using feature(s):  'Hue'  'Magnesium'  \n",
      "Errors: 7/48\n",
      "Test error using feature(s):  'Hue'  'Total phenols'  \n",
      "Errors: 8/48\n",
      "Test error using feature(s):  'Hue'  'Flavanoids'  \n",
      "Errors: 4/48\n",
      "Test error using feature(s):  'Hue'  'Nonflavanoid phenols'  \n",
      "Errors: 14/48\n",
      "Test error using feature(s):  'Hue'  'Proanthocyanins'  \n",
      "Errors: 11/48\n",
      "Test error using feature(s):  'Hue'  'Color intensity'  \n",
      "Errors: 8/48\n",
      "Please choose different features for f1 and f2.\n",
      "Test error using feature(s):  'Hue'  'OD280/OD315 of diluted wines'  \n",
      "Errors: 11/48\n",
      "Test error using feature(s):  'Hue'  'Proline'  \n",
      "Errors: 7/48\n",
      "Test error using feature(s):  'OD280/OD315 of diluted wines'  'Alcohol'  \n",
      "Errors: 5/48\n",
      "Test error using feature(s):  'OD280/OD315 of diluted wines'  'Malic acid'  \n",
      "Errors: 15/48\n",
      "Test error using feature(s):  'OD280/OD315 of diluted wines'  'Ash'  \n",
      "Errors: 13/48\n",
      "Test error using feature(s):  'OD280/OD315 of diluted wines'  'Alcalinity of ash'  \n",
      "Errors: 9/48\n",
      "Test error using feature(s):  'OD280/OD315 of diluted wines'  'Magnesium'  \n",
      "Errors: 7/48\n",
      "Test error using feature(s):  'OD280/OD315 of diluted wines'  'Total phenols'  \n",
      "Errors: 10/48\n",
      "Test error using feature(s):  'OD280/OD315 of diluted wines'  'Flavanoids'  \n",
      "Errors: 7/48\n",
      "Test error using feature(s):  'OD280/OD315 of diluted wines'  'Nonflavanoid phenols'  \n",
      "Errors: 13/48\n",
      "Test error using feature(s):  'OD280/OD315 of diluted wines'  'Proanthocyanins'  \n",
      "Errors: 16/48\n",
      "Test error using feature(s):  'OD280/OD315 of diluted wines'  'Color intensity'  \n",
      "Errors: 9/48\n",
      "Test error using feature(s):  'OD280/OD315 of diluted wines'  'Hue'  \n",
      "Errors: 11/48\n",
      "Please choose different features for f1 and f2.\n",
      "Test error using feature(s):  'OD280/OD315 of diluted wines'  'Proline'  \n",
      "Errors: 4/48\n",
      "Test error using feature(s):  'Proline'  'Alcohol'  \n",
      "Errors: 9/48\n",
      "Test error using feature(s):  'Proline'  'Malic acid'  \n",
      "Errors: 9/48\n",
      "Test error using feature(s):  'Proline'  'Ash'  \n",
      "Errors: 15/48\n",
      "Test error using feature(s):  'Proline'  'Alcalinity of ash'  \n",
      "Errors: 13/48\n",
      "Test error using feature(s):  'Proline'  'Magnesium'  \n",
      "Errors: 14/48\n",
      "Test error using feature(s):  'Proline'  'Total phenols'  \n",
      "Errors: 9/48\n",
      "Test error using feature(s):  'Proline'  'Flavanoids'  \n",
      "Errors: 4/48\n",
      "Test error using feature(s):  'Proline'  'Nonflavanoid phenols'  \n",
      "Errors: 11/48\n",
      "Test error using feature(s):  'Proline'  'Proanthocyanins'  \n",
      "Errors: 10/48\n",
      "Test error using feature(s):  'Proline'  'Color intensity'  \n",
      "Errors: 5/48\n",
      "Test error using feature(s):  'Proline'  'Hue'  \n",
      "Errors: 7/48\n",
      "Test error using feature(s):  'Proline'  'OD280/OD315 of diluted wines'  \n",
      "Errors: 4/48\n",
      "Please choose different features for f1 and f2.\n"
     ]
    }
   ],
   "source": [
    "models = {}\n",
    "for i in range(13):\n",
    "    for j in range(13):\n",
    "        models[str(i)+\"+\"+str(j)] = test_model(i,j)"
   ]
  },
  {
   "cell_type": "code",
   "execution_count": 18,
   "metadata": {
    "ExecuteTime": {
     "end_time": "2018-10-31T01:24:05.915098Z",
     "start_time": "2018-10-31T01:24:05.905351Z"
    }
   },
   "outputs": [],
   "source": [
    "import operator\n",
    "x = {k: v for k, v in models.items() if v is not None}\n",
    "sorted_x = sorted(x.items(), key=operator.itemgetter(1))"
   ]
  },
  {
   "cell_type": "code",
   "execution_count": 19,
   "metadata": {
    "ExecuteTime": {
     "end_time": "2018-10-31T01:24:05.940147Z",
     "start_time": "2018-10-31T01:24:05.927059Z"
    }
   },
   "outputs": [
    {
     "data": {
      "text/plain": [
       "1.8370666666666668"
      ]
     },
     "execution_count": 19,
     "metadata": {},
     "output_type": "execute_result"
    }
   ],
   "source": [
    "((2.66-1)**2)*2/3"
   ]
  },
  {
   "cell_type": "code",
   "execution_count": 20,
   "metadata": {
    "ExecuteTime": {
     "end_time": "2018-10-31T01:24:05.966961Z",
     "start_time": "2018-10-31T01:24:05.950019Z"
    }
   },
   "outputs": [
    {
     "data": {
      "text/plain": [
       "3.7185333333333332"
      ]
     },
     "execution_count": 20,
     "metadata": {},
     "output_type": "execute_result"
    }
   ],
   "source": [
    "((2.66-6)**2)*1/3"
   ]
  },
  {
   "cell_type": "code",
   "execution_count": 21,
   "metadata": {
    "ExecuteTime": {
     "end_time": "2018-10-31T01:24:05.997905Z",
     "start_time": "2018-10-31T01:24:05.972944Z"
    }
   },
   "outputs": [
    {
     "data": {
      "text/plain": [
       "[('6+9', 3),\n",
       " ('9+6', 3),\n",
       " ('0+6', 4),\n",
       " ('6+0', 4),\n",
       " ('6+10', 4),\n",
       " ('6+12', 4),\n",
       " ('10+6', 4),\n",
       " ('11+12', 4),\n",
       " ('12+6', 4),\n",
       " ('12+11', 4),\n",
       " ('0+5', 5),\n",
       " ('0+11', 5),\n",
       " ('5+0', 5),\n",
       " ('5+9', 5),\n",
       " ('8+9', 5),\n",
       " ('9+5', 5),\n",
       " ('9+8', 5),\n",
       " ('9+12', 5),\n",
       " ('11+0', 5),\n",
       " ('12+9', 5),\n",
       " ('0+10', 6),\n",
       " ('10+0', 6),\n",
       " ('3+10', 7),\n",
       " ('4+6', 7),\n",
       " ('4+10', 7),\n",
       " ('4+11', 7),\n",
       " ('5+6', 7),\n",
       " ('6+4', 7),\n",
       " ('6+5', 7),\n",
       " ('6+11', 7),\n",
       " ('10+3', 7),\n",
       " ('10+4', 7),\n",
       " ('10+12', 7),\n",
       " ('11+4', 7),\n",
       " ('11+6', 7),\n",
       " ('12+10', 7),\n",
       " ('0+8', 8),\n",
       " ('0+9', 8),\n",
       " ('3+6', 8),\n",
       " ('5+10', 8),\n",
       " ('6+3', 8),\n",
       " ('6+7', 8),\n",
       " ('6+8', 8),\n",
       " ('7+6', 8),\n",
       " ('8+0', 8),\n",
       " ('8+6', 8),\n",
       " ('9+0', 8),\n",
       " ('9+10', 8),\n",
       " ('10+5', 8),\n",
       " ('10+9', 8),\n",
       " ('0+1', 9),\n",
       " ('0+3', 9),\n",
       " ('0+12', 9),\n",
       " ('1+0', 9),\n",
       " ('1+6', 9),\n",
       " ('1+12', 9),\n",
       " ('3+0', 9),\n",
       " ('3+11', 9),\n",
       " ('4+8', 9),\n",
       " ('5+12', 9),\n",
       " ('6+1', 9),\n",
       " ('8+4', 9),\n",
       " ('9+11', 9),\n",
       " ('11+3', 9),\n",
       " ('11+9', 9),\n",
       " ('12+0', 9),\n",
       " ('12+1', 9),\n",
       " ('12+5', 9),\n",
       " ('0+7', 10),\n",
       " ('2+6', 10),\n",
       " ('4+9', 10),\n",
       " ('5+11', 10),\n",
       " ('6+2', 10),\n",
       " ('7+0', 10),\n",
       " ('8+12', 10),\n",
       " ('9+4', 10),\n",
       " ('11+5', 10),\n",
       " ('12+8', 10),\n",
       " ('1+4', 11),\n",
       " ('1+9', 11),\n",
       " ('3+4', 11),\n",
       " ('3+9', 11),\n",
       " ('4+1', 11),\n",
       " ('4+3', 11),\n",
       " ('4+5', 11),\n",
       " ('5+4', 11),\n",
       " ('7+12', 11),\n",
       " ('8+10', 11),\n",
       " ('9+1', 11),\n",
       " ('9+3', 11),\n",
       " ('10+8', 11),\n",
       " ('10+11', 11),\n",
       " ('11+10', 11),\n",
       " ('12+7', 11),\n",
       " ('0+2', 12),\n",
       " ('1+5', 12),\n",
       " ('2+0', 12),\n",
       " ('3+5', 12),\n",
       " ('5+1', 12),\n",
       " ('5+3', 12),\n",
       " ('7+9', 12),\n",
       " ('9+7', 12),\n",
       " ('2+9', 13),\n",
       " ('2+10', 13),\n",
       " ('2+11', 13),\n",
       " ('3+12', 13),\n",
       " ('5+7', 13),\n",
       " ('7+5', 13),\n",
       " ('7+11', 13),\n",
       " ('9+2', 13),\n",
       " ('10+2', 13),\n",
       " ('11+2', 13),\n",
       " ('11+7', 13),\n",
       " ('12+3', 13),\n",
       " ('0+4', 14),\n",
       " ('1+8', 14),\n",
       " ('4+0', 14),\n",
       " ('4+12', 14),\n",
       " ('7+10', 14),\n",
       " ('8+1', 14),\n",
       " ('10+7', 14),\n",
       " ('12+4', 14),\n",
       " ('1+11', 15),\n",
       " ('2+12', 15),\n",
       " ('5+8', 15),\n",
       " ('8+5', 15),\n",
       " ('11+1', 15),\n",
       " ('12+2', 15),\n",
       " ('1+3', 16),\n",
       " ('1+10', 16),\n",
       " ('2+5', 16),\n",
       " ('3+1', 16),\n",
       " ('5+2', 16),\n",
       " ('8+11', 16),\n",
       " ('10+1', 16),\n",
       " ('11+8', 16),\n",
       " ('2+3', 18),\n",
       " ('3+2', 18),\n",
       " ('4+7', 18),\n",
       " ('7+4', 18),\n",
       " ('7+8', 18),\n",
       " ('8+7', 18),\n",
       " ('3+7', 19),\n",
       " ('7+3', 19),\n",
       " ('3+8', 20),\n",
       " ('8+3', 20),\n",
       " ('1+7', 21),\n",
       " ('2+8', 21),\n",
       " ('7+1', 21),\n",
       " ('8+2', 21),\n",
       " ('1+2', 22),\n",
       " ('2+1', 22),\n",
       " ('2+7', 22),\n",
       " ('7+2', 22),\n",
       " ('2+4', 23),\n",
       " ('4+2', 23)]"
      ]
     },
     "execution_count": 21,
     "metadata": {},
     "output_type": "execute_result"
    }
   ],
   "source": [
    "sorted_x"
   ]
  },
  {
   "cell_type": "markdown",
   "metadata": {},
   "source": [
    "### <font color=\"magenta\">Fast exercise 1</font>"
   ]
  },
  {
   "cell_type": "markdown",
   "metadata": {},
   "source": [
    "Different pairs of features yield different test errors.\n",
    "* What is the smallest achievable test error?\n",
    "    - 3\n",
    "* Which pair of features achieves this minimum test error?\n",
    "    - 6,9\n",
    "    \n",
    "*Make a note of your answers to these questions, as you will need to enter them as part of this week's assignment.*"
   ]
  },
  {
   "cell_type": "markdown",
   "metadata": {
    "collapsed": true
   },
   "source": [
    "## 5. The decision boundary "
   ]
  },
  {
   "cell_type": "markdown",
   "metadata": {},
   "source": [
    "The function **show_decision_boundary** takes as input two features, builds a classifier based only on these two features, and shows a plot that contains both the training data and the decision boundary.\n",
    "\n",
    "To compute the decision boundary, a dense grid is defined on the two-dimensional input space and the classifier is applied to every grid point. The built-in `pyplot.contour` function can then be invoked to depict the boundary."
   ]
  },
  {
   "cell_type": "code",
   "execution_count": 22,
   "metadata": {
    "ExecuteTime": {
     "end_time": "2018-10-31T01:24:07.386174Z",
     "start_time": "2018-10-31T01:24:07.375187Z"
    }
   },
   "outputs": [],
   "source": [
    "def show_decision_boundary(f1,f2):\n",
    "    # Fit Gaussian to each class\n",
    "    mu, covar, pi = fit_generative_model(trainx, trainy, [f1,f2])\n",
    "    \n",
    "    # Set up dimensions of plot\n",
    "    x1_lower, x1_upper = find_range(trainx[:,f1])\n",
    "    x2_lower, x2_upper = find_range(trainx[:,f2])\n",
    "    plt.xlim([x1_lower,x1_upper])\n",
    "    plt.ylim([x2_lower,x2_upper])\n",
    "\n",
    "    # Plot points in training set\n",
    "    colors = ['r', 'k', 'g']\n",
    "    for label in range(1,4):\n",
    "        plt.plot(trainx[trainy==label,f1], trainx[trainy==label,f2], marker='o', ls='None', c=colors[label-1])\n",
    "\n",
    "    # Define a dense grid; every point in the grid will be classified according to the generative model\n",
    "    res = 200\n",
    "    x1g = np.linspace(x1_lower, x1_upper, res)\n",
    "    x2g = np.linspace(x2_lower, x2_upper, res)\n",
    "\n",
    "    # Declare random variables corresponding to each class density\n",
    "    random_vars = {}\n",
    "    for label in range(1,4):\n",
    "        random_vars[label] = multivariate_normal(mean=mu[label,:],cov=covar[label,:,:])\n",
    "\n",
    "    # Classify every point in the grid; these are stored in an array Z[]\n",
    "    Z = np.zeros((len(x1g), len(x2g)))\n",
    "    for i in range(0,len(x1g)):\n",
    "        for j in range(0,len(x2g)):\n",
    "            scores = []\n",
    "            for label in range(1,4):\n",
    "                scores.append(np.log(pi[label]) + random_vars[label].logpdf([x1g[i],x2g[j]]))\n",
    "            Z[i,j] = np.argmax(scores) + 1\n",
    "\n",
    "    # Plot the contour lines\n",
    "    plt.contour(x1g,x2g,Z.T,3,cmap='seismic')\n",
    "    \n",
    "    # Finally, show the image\n",
    "    plt.xlabel(featurenames[f1], fontsize=14, color='red')\n",
    "    plt.ylabel(featurenames[f2], fontsize=14, color='red')\n",
    "    plt.show()"
   ]
  },
  {
   "cell_type": "markdown",
   "metadata": {},
   "source": [
    "Let's use the function above to draw the decision boundary using features 0 ('alcohol') and 6 ('flavanoids')."
   ]
  },
  {
   "cell_type": "code",
   "execution_count": 23,
   "metadata": {
    "ExecuteTime": {
     "end_time": "2018-10-31T01:24:17.899088Z",
     "start_time": "2018-10-31T01:24:13.088915Z"
    }
   },
   "outputs": [
    {
     "data": {
      "image/png": "[encoded data removed]",
      "text/plain": [
       "<Figure size 432x288 with 1 Axes>"
      ]
     },
     "metadata": {
      "needs_background": "light"
     },
     "output_type": "display_data"
    }
   ],
   "source": [
    "show_decision_boundary(0,6)"
   ]
  },
  {
   "cell_type": "markdown",
   "metadata": {},
   "source": [
    "### <font color=\"magenta\">Fast exercise 2</font>"
   ]
  },
  {
   "cell_type": "markdown",
   "metadata": {},
   "source": [
    "Can you add interactive sliders to function **show_decision_boundary**?"
   ]
  },
  {
   "cell_type": "code",
   "execution_count": 21,
   "metadata": {
    "ExecuteTime": {
     "end_time": "2018-09-24T21:22:39.084933Z",
     "start_time": "2018-09-24T21:22:36.227584Z"
    }
   },
   "outputs": [
    {
     "data": {
      "application/vnd.jupyter.widget-view+json": {
       "model_id": "ed7953e54d224f468f4070c985a74ac6",
       "version_major": 2,
       "version_minor": 0
      },
      "text/plain": [
       "interactive(children=(IntSlider(value=0, description='f1', max=12), IntSlider(value=6, description='f2', max=1…"
      ]
     },
     "metadata": {},
     "output_type": "display_data"
    }
   ],
   "source": [
    "@interact( f1=IntSlider(0,0,12,1), f2=IntSlider(6,0,12,1))\n",
    "def show_decision_boundary(f1,f2):\n",
    "    # Fit Gaussian to each class\n",
    "    mu, covar, pi = fit_generative_model(trainx, trainy, [f1,f2])\n",
    "    \n",
    "    # Set up dimensions of plot\n",
    "    x1_lower, x1_upper = find_range(trainx[:,f1])\n",
    "    x2_lower, x2_upper = find_range(trainx[:,f2])\n",
    "    plt.xlim([x1_lower,x1_upper])\n",
    "    plt.ylim([x2_lower,x2_upper])\n",
    "\n",
    "    # Plot points in training set\n",
    "    colors = ['r', 'k', 'g']\n",
    "    for label in range(1,4):\n",
    "        plt.plot(trainx[trainy==label,f1], trainx[trainy==label,f2], marker='o', ls='None', c=colors[label-1])\n",
    "\n",
    "    # Define a dense grid; every point in the grid will be classified according to the generative model\n",
    "    res = 200\n",
    "    x1g = np.linspace(x1_lower, x1_upper, res)\n",
    "    x2g = np.linspace(x2_lower, x2_upper, res)\n",
    "\n",
    "    # Declare random variables corresponding to each class density\n",
    "    random_vars = {}\n",
    "    for label in range(1,4):\n",
    "        random_vars[label] = multivariate_normal(mean=mu[label,:],cov=covar[label,:,:])\n",
    "\n",
    "    # Classify every point in the grid; these are stored in an array Z[]\n",
    "    Z = np.zeros((len(x1g), len(x2g)))\n",
    "    for i in range(0,len(x1g)):\n",
    "        for j in range(0,len(x2g)):\n",
    "            scores = []\n",
    "            for label in range(1,4):\n",
    "                scores.append(np.log(pi[label]) + random_vars[label].logpdf([x1g[i],x2g[j]]))\n",
    "            Z[i,j] = np.argmax(scores) + 1\n",
    "\n",
    "    # Plot the contour lines\n",
    "    plt.contour(x1g,x2g,Z.T,3,cmap='seismic')\n",
    "    \n",
    "    # Finally, show the image\n",
    "    plt.xlabel(featurenames[f1], fontsize=14, color='red')\n",
    "    plt.ylabel(featurenames[f2], fontsize=14, color='red')\n",
    "    plt.show()"
   ]
  },
  {
   "cell_type": "markdown",
   "metadata": {},
   "source": [
    "### <font color=\"magenta\">Fast exercise 3</font>"
   ]
  },
  {
   "cell_type": "markdown",
   "metadata": {},
   "source": [
    "Produce a plot similar to that of **show_decision_boundary**, but in which just the **test** data is shown.\n",
    "Look back at your answer to *Fast exercise 1*. Is it corroborated by your plot? Are the errors clearly visible?"
   ]
  },
  {
   "cell_type": "code",
   "execution_count": 41,
   "metadata": {
    "ExecuteTime": {
     "end_time": "2018-09-24T21:30:54.005651Z",
     "start_time": "2018-09-24T21:30:51.427519Z"
    }
   },
   "outputs": [
    {
     "data": {
      "image/png": "[encoded data removed]",
      "text/plain": [
       "<Figure size 432x288 with 1 Axes>"
      ]
     },
     "metadata": {
      "needs_background": "light"
     },
     "output_type": "display_data"
    }
   ],
   "source": [
    "show_decision_boundary(6,9)"
   ]
  },
  {
   "cell_type": "code",
   "execution_count": null,
   "metadata": {},
   "outputs": [],
   "source": []
  }
 ],
 "metadata": {
  "kernelspec": {
   "display_name": "Python 3",
   "language": "python",
   "name": "python3"
  },
  "language_info": {
   "codemirror_mode": {
    "name": "ipython",
    "version": 3
   },
   "file_extension": ".py",
   "mimetype": "text/x-python",
   "name": "python",
   "nbconvert_exporter": "python",
   "pygments_lexer": "ipython3",
   "version": "3.6.6"
  },
  "toc": {
   "colors": {
    "hover_highlight": "#DAA520",
    "navigate_num": "#000000",
    "navigate_text": "#333333",
    "running_highlight": "#FF0000",
    "selected_highlight": "#FFD700",
    "sidebar_border": "#EEEEEE",
    "wrapper_background": "#FFFFFF"
   },
   "moveMenuLeft": true,
   "nav_menu": {
    "height": "12px",
    "width": "252px"
   },
   "navigate_menu": true,
   "number_sections": false,
   "sideBar": true,
   "threshold": 4,
   "toc_cell": false,
   "toc_section_display": "block",
   "toc_window_display": false,
   "widenNotebook": false
  }
 },
 "nbformat": 4,
 "nbformat_minor": 1
}
