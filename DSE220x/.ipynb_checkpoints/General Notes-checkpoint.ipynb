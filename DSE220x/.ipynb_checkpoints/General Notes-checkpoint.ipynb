{
 "cells": [
  {
   "cell_type": "markdown",
   "metadata": {},
   "source": [
    "##### General Structure\n",
    "- Probablilty:\n",
    "    - Probability spaces\n",
    "    - Bayes' rule\n",
    "    - Random variables\n",
    "    - Mean & variance\n",
    "- Linear Algebra:\n",
    "    - Matrices and vectors\n",
    "    - Projection\n",
    "    - Positive Definiteness\n",
    "    - Eigandecomposition\n",
    "    - Spectral decomposition\n",
    "- Optimization:\n",
    "    - Gradient descent\n",
    "    - Stochastic gradient descent\n",
    "    - Convex optimization\n",
    "    - Duality\n",
    "    \n",
    "##### Machine Learning vs Algorithm:\n",
    "- Both\n",
    "    - Develop procedures that exhibit a desired input-output behavior\n",
    "- Algorithms:\n",
    "    - Steps/mapping: input-output mapping can be precisely expressed or defined\n",
    "    - Input: Graph G, 2 nodes u,v in the graph\n",
    "    - Output: Shortest path from u to v in G\n",
    "- Machine Learning: \n",
    "    - Steps/mapping: steps from input-output cannot be easily explained expressed or defined\n",
    "    - Input: Picture of animal\n",
    "    - Output: Names of animal\n",
    "    \n",
    "    \n"
   ]
  },
  {
   "cell_type": "markdown",
   "metadata": {},
   "source": [
    "## W1"
   ]
  },
  {
   "cell_type": "markdown",
   "metadata": {},
   "source": [
    "#### Distance functions:\n",
    "##### Taxicab Distance ($l_{1}$): sum of length of legs\n",
    "$$||x-z||_{1} =\\sum_{i=1}^{m}|x_{i}-z_{i}|$$\n",
    "- Metric Space: looks like a diamond\n",
    "<br><br><br>\n",
    "##### Euclidean Distance ($l_{2}$): crow flies distance\n",
    "$$||x-z||_{2} = \\sqrt{\\sum_{i=1}^{m}(x_{i}-z_{i})^2}$$\n",
    "- Metric Space: looks like a circle\n",
    "<br><br><br>\n",
    "##### For p>1, $l_{p}$ Distance:\n",
    "$$||x-z||_{p} = (\\sum_{i=1}^{m}|x_{i}-z_{i}|^p)^{1/p}$$\n",
    "- Metric Space: looks like a $p$ space sphere\n",
    "<br><br><br>\n",
    "##### Chebyshev Distance ($l\\infty$): Max distance\n",
    "$$||x-z||_{\\infty} = max_{i}|x_{i}-z_{i}|$$\n",
    "- Metric Space: looks like a square"
   ]
  },
  {
   "cell_type": "markdown",
   "metadata": {},
   "source": [
    "drivers = 8-10 dig number\n",
    "annual = 60k\n",
    "\n",
    "maybe a distance metric that takes the largest distance and subtracts it from the euclidean (if drivers > amount in bank then, it would drop it out, if amont>drivers it creates an upperbounds)"
   ]
  },
  {
   "cell_type": "code",
   "execution_count": 56,
   "metadata": {
    "ExecuteTime": {
     "end_time": "2018-09-06T19:57:01.800466Z",
     "start_time": "2018-09-06T19:57:01.792932Z"
    }
   },
   "outputs": [
    {
     "data": {
      "text/plain": [
       "5.477225575051661"
      ]
     },
     "execution_count": 56,
     "metadata": {},
     "output_type": "execute_result"
    }
   ],
   "source": [
    "(sum([i**2 for i in [1,2,3,4]]))**.5"
   ]
  },
  {
   "cell_type": "code",
   "execution_count": 1,
   "metadata": {
    "ExecuteTime": {
     "end_time": "2018-09-06T19:51:36.707088Z",
     "start_time": "2018-09-06T19:51:36.700447Z"
    }
   },
   "outputs": [],
   "source": [
    "p1 = [-1,1,-1,1]\n",
    "p2 = [1,1,1,1]\n",
    "p = 2"
   ]
  },
  {
   "cell_type": "code",
   "execution_count": 2,
   "metadata": {
    "ExecuteTime": {
     "end_time": "2018-09-06T19:51:37.712304Z",
     "start_time": "2018-09-06T19:51:37.704939Z"
    }
   },
   "outputs": [],
   "source": [
    "def lp_dist(p1,p2,p):\n",
    "    \"\"\"given 2 points, p1 & p2, and p dimension space calculate distance\"\"\"\n",
    "    def abs(x): return ((x)**2)**.5\n",
    "    return sum([abs(p1[i]-p2[i])**p for i in range(len(p1))])**(1/p)"
   ]
  },
  {
   "cell_type": "code",
   "execution_count": 3,
   "metadata": {
    "ExecuteTime": {
     "end_time": "2018-09-06T19:52:14.316705Z",
     "start_time": "2018-09-06T19:52:14.312106Z"
    }
   },
   "outputs": [
    {
     "data": {
      "text/plain": [
       "2.8284271247461903"
      ]
     },
     "execution_count": 3,
     "metadata": {},
     "output_type": "execute_result"
    }
   ],
   "source": [
    "lp_dist(p1,p2,2)"
   ]
  },
  {
   "cell_type": "code",
   "execution_count": 46,
   "metadata": {
    "ExecuteTime": {
     "end_time": "2018-09-06T19:36:58.315695Z",
     "start_time": "2018-09-06T19:36:58.308560Z"
    }
   },
   "outputs": [
    {
     "data": {
      "text/plain": [
       "5.0990195135927845"
      ]
     },
     "execution_count": 46,
     "metadata": {},
     "output_type": "execute_result"
    }
   ],
   "source": [
    "lp_dist([7,9],[12,8],2)"
   ]
  },
  {
   "cell_type": "markdown",
   "metadata": {},
   "source": [
    "### Metric Space:\n",
    "X can be any dataspace.\n",
    "<br>\n",
    "A distance function $d: X * X -> R$ is metric if:\n",
    "- $d(x,y)>=0$ (non negative)\n",
    "- $d(x,y)=0$ if and only if x = y\n",
    "- $d(x,y) = d(y,x)$ (symmetry)\n",
    "- $d(x,z)<= d(x,y) + d(y,z)$ (triangle inequality)"
   ]
  },
  {
   "cell_type": "markdown",
   "metadata": {},
   "source": [
    "#### Edit distance (metric distance function):\n",
    "- with strings of `{'a','c','g','t'}*`<br>\n",
    "`x = ['a','c','c','g','t']`<br>\n",
    "`y = ['c','c','g','t']`\n",
    "<br> \n",
    "x and y are quite similar\n",
    "- if you add `'a'` to y, you get x\n",
    "- if you remove `'a'` from x, you get y\n",
    "<br>\n",
    "\n",
    "Edit distance, $d(x,y)$ is the # of `insertions, deletions, substitutions` to get from x to y\n",
    "\n",
    "- $d(x,y)>=0$ (non negative) $TRUE$\n",
    "- $d(x,y)=0$ if and only if x = y $TRUE$\n",
    "- $d(x,y) = d(y,x)$ (symmetry) $TRUE$\n",
    "- $d(x,z)<= d(x,y) + d(y,z)$ (triangle inequality) $TRUE$"
   ]
  },
  {
   "cell_type": "markdown",
   "metadata": {},
   "source": [
    "#### Kullback - Leibler divergence (relative entropy) (non metric distance function)\n"
   ]
  },
  {
   "cell_type": "markdown",
   "metadata": {},
   "source": [
    "###### Let $p,q$ be probability distrubtion on some set $X$\n",
    "$$d(p,q) = \\sum_{x\\in{X}}{p(x)\\log{\\frac{p(x)}{q(x)}}}$$\n",
    "\n",
    "###### eg.\n",
    "$p = (\\frac{1}{2},\\frac{1}{4},\\frac{1}{8},\\frac{1}{8})$<br>\n",
    "$q = (\\frac{1}{6},\\frac{1}{3},\\frac{1}{3},\\frac{1}{6})$\n",
    "\n",
    "$$d(p,q) = \n",
    "\\frac{1}{2}\\log\\frac{\\frac{1}{2}}{\\frac{1}{6}}+\n",
    "\\frac{1}{4}\\log\\frac{\\frac{1}{4}}{\\frac{1}{3}}+\n",
    "\\frac{1}{8}\\log\\frac{\\frac{1}{8}}{\\frac{1}{3}}+\n",
    "\\frac{1}{8}\\log\\frac{\\frac{1}{8}}{\\frac{1}{6}}$$\n",
    "\n",
    "- $d(x,y)>=0$ (non negative) $TRUE$\n",
    "- $d(x,y)=0$ if and only if x = y $TRUE$\n",
    "- $d(x,y) = d(y,x)$ (symmetry) $FALSE$\n",
    "- $d(x,z)<= d(x,y) + d(y,z)$ (triangle inequality) $FALSE$\n",
    "    - Thus None Metric"
   ]
  },
  {
   "cell_type": "code",
   "execution_count": 38,
   "metadata": {
    "ExecuteTime": {
     "end_time": "2018-09-06T19:27:30.339164Z",
     "start_time": "2018-09-06T19:27:30.332183Z"
    }
   },
   "outputs": [],
   "source": [
    "p = [.5,.2,.2,.1]\n",
    "q = [.25,.25,.25,.25]"
   ]
  },
  {
   "cell_type": "code",
   "execution_count": 43,
   "metadata": {
    "ExecuteTime": {
     "end_time": "2018-09-06T19:29:06.018415Z",
     "start_time": "2018-09-06T19:29:06.012876Z"
    }
   },
   "outputs": [],
   "source": [
    "def kl(p,q):\n",
    "    from math import log\n",
    "    def kl_sub(one,two): return(one*log(one/two))\n",
    "    return sum([kl_sub(p[i],q[i]) for i in range(len(p))])"
   ]
  },
  {
   "cell_type": "code",
   "execution_count": 41,
   "metadata": {
    "ExecuteTime": {
     "end_time": "2018-09-06T19:27:38.146442Z",
     "start_time": "2018-09-06T19:27:38.141196Z"
    }
   },
   "outputs": [
    {
     "data": {
      "text/plain": [
       "0.16568709656687328"
      ]
     },
     "execution_count": 41,
     "metadata": {},
     "output_type": "execute_result"
    }
   ],
   "source": [
    "kl(p,q)"
   ]
  },
  {
   "cell_type": "markdown",
   "metadata": {},
   "source": [
    "## W2"
   ]
  },
  {
   "cell_type": "markdown",
   "metadata": {},
   "source": [
    "##### Generative Classification:\n",
    "- with `+` and `-`\n",
    "- Look only at `+` and fit a model to them, then repeat for the `-`, when a new point comes along, ask `what is the probability that the new point comes from + or - model`?"
   ]
  },
  {
   "cell_type": "markdown",
   "metadata": {},
   "source": [
    "For each class j, we have:\n",
    "- Probabilty of that class $\\pi_{j}=Pr(y=j)$\n",
    "- Distribution of data in that class, $P_{j}(x)$\n",
    "Joint Distribution: $Pr(x,y) = Pr(y)Pr(x|y) = \\pi_{y}P_{y}(x)$"
   ]
  },
  {
   "cell_type": "markdown",
   "metadata": {},
   "source": [
    "#### Probabilty spaces\n",
    "    - Summary of all info we need to answer an experiment\n",
    "    eg. roll 2 dice, what is the probability that they add to 10\n",
    "##### Sample space (space of outcomes)\n",
    "   - ss = {(1,1), (1,2), ... (1,6),(2,1),... (6,6)}\n",
    "   -    = {1,2...5,6} for dice 1, {1,2...5,6} for dice 2\n",
    "   -    = $({1,2,3,4,5,6})^2$ <br>\n",
    "   -    = 36\n",
    "   \n",
    "##### Probability of outcomes (summing to 1)\n",
    "   - each outcome is equally likely \n",
    "   $\\frac{1}{36}$\n",
    "   \n",
    "#### "
   ]
  },
  {
   "cell_type": "code",
   "execution_count": 1,
   "metadata": {},
   "outputs": [],
   "source": [
    "#### OTHER NOte"
   ]
  },
  {
   "cell_type": "markdown",
   "metadata": {},
   "source": [
    "#### Random Variable\n",
    "Roll two dice, let X be their sum.\n",
    "##### Probability Space:\n",
    "$$\\Omega = \\{1,2,3,4,5,6\\}^2$$\n",
    "Random variable $x$ lies in $\\{1,2,3,4,5,6,7,8,9,10,11,12\\}$"
   ]
  },
  {
   "cell_type": "code",
   "execution_count": 18,
   "metadata": {},
   "outputs": [
    {
     "data": {
      "text/plain": [
       "4"
      ]
     },
     "execution_count": 18,
     "metadata": {},
     "output_type": "execute_result"
    }
   ],
   "source": [
    "min(4,5)"
   ]
  },
  {
   "cell_type": "code",
   "execution_count": null,
   "metadata": {},
   "outputs": [],
   "source": []
  },
  {
   "cell_type": "code",
   "execution_count": 26,
   "metadata": {},
   "outputs": [],
   "source": [
    "d = {str(i):0 for i in range(1,7)}"
   ]
  },
  {
   "cell_type": "code",
   "execution_count": 27,
   "metadata": {},
   "outputs": [],
   "source": [
    "for i in range(1,7):\n",
    "    for j in range(1,7):\n",
    "        d[str(min(i,j))] += 1"
   ]
  },
  {
   "cell_type": "code",
   "execution_count": 48,
   "metadata": {},
   "outputs": [
    {
     "data": {
      "text/plain": [
       "{'1': 11, '2': 9, '3': 7, '4': 5, '5': 3, '6': 1}"
      ]
     },
     "execution_count": 48,
     "metadata": {},
     "output_type": "execute_result"
    }
   ],
   "source": [
    "d"
   ]
  },
  {
   "cell_type": "code",
   "execution_count": 73,
   "metadata": {},
   "outputs": [],
   "source": [
    "def Find_E_n_Var(dic):\n",
    "    \"\"\"\n",
    "    takes in dic, with keys = possible values & values = instances\n",
    "    \"\"\"\n",
    "    count = sum(dic.values())\n",
    "    e = 0\n",
    "    for i in dic.keys():\n",
    "        e += (int(i)*dic[i]/count)\n",
    "    var = 0\n",
    "    for i in dic.keys():\n",
    "        var += ((int(i)-e)**2)*dic[i]/count\n",
    "    print(\"e  : {}\\nvar: {}\".format(e,var))\n",
    "    return"
   ]
  },
  {
   "cell_type": "code",
   "execution_count": 74,
   "metadata": {},
   "outputs": [
    {
     "name": "stdout",
     "output_type": "stream",
     "text": [
      "e  : 2.5277777777777777\n",
      "var: 1.9714506172839508\n"
     ]
    }
   ],
   "source": [
    "Find_E_n_Var(d)"
   ]
  },
  {
   "cell_type": "code",
   "execution_count": 82,
   "metadata": {},
   "outputs": [],
   "source": [
    "# for finding cov within X,Y variables\n",
    "cd = {}\n",
    "for i in ['-1','0','1']:\n",
    "    for j in ['-1','0','1']:\n",
    "        cd[i+','+j]=0\n",
    "cd['-1,1']=1/3\n",
    "cd['0,0'] = 1/3\n",
    "cd['1,-1']=1/3"
   ]
  },
  {
   "cell_type": "code",
   "execution_count": 83,
   "metadata": {},
   "outputs": [
    {
     "data": {
      "text/plain": [
       "{'-1,-1': 0,\n",
       " '-1,0': 0,\n",
       " '-1,1': 0.3333333333333333,\n",
       " '0,-1': 0,\n",
       " '0,0': 0.3333333333333333,\n",
       " '0,1': 0,\n",
       " '1,-1': 0.3333333333333333,\n",
       " '1,0': 0,\n",
       " '1,1': 0}"
      ]
     },
     "execution_count": 83,
     "metadata": {},
     "output_type": "execute_result"
    }
   ],
   "source": [
    "cd"
   ]
  },
  {
   "cell_type": "code",
   "execution_count": 96,
   "metadata": {},
   "outputs": [],
   "source": [
    "x,y = list(cd.keys())[0].split(',')"
   ]
  },
  {
   "cell_type": "code",
   "execution_count": 102,
   "metadata": {},
   "outputs": [
    {
     "ename": "KeyError",
     "evalue": "'1'",
     "output_type": "error",
     "traceback": [
      "\u001b[1;31m---------------------------------------------------------------------------\u001b[0m",
      "\u001b[1;31mKeyError\u001b[0m                                  Traceback (most recent call last)",
      "\u001b[1;32m<ipython-input-102-3d5021cc3f4c>\u001b[0m in \u001b[0;36m<module>\u001b[1;34m()\u001b[0m\n\u001b[0;32m      2\u001b[0m \u001b[1;32mfor\u001b[0m \u001b[0mi\u001b[0m \u001b[1;32min\u001b[0m \u001b[0mlist\u001b[0m\u001b[1;33m(\u001b[0m\u001b[0mcd\u001b[0m\u001b[1;33m.\u001b[0m\u001b[0mkeys\u001b[0m\u001b[1;33m(\u001b[0m\u001b[1;33m)\u001b[0m\u001b[1;33m)\u001b[0m\u001b[1;33m:\u001b[0m\u001b[1;33m\u001b[0m\u001b[0m\n\u001b[0;32m      3\u001b[0m     \u001b[0mx\u001b[0m\u001b[1;33m,\u001b[0m\u001b[0my\u001b[0m \u001b[1;33m=\u001b[0m \u001b[0mi\u001b[0m\u001b[1;33m.\u001b[0m\u001b[0msplit\u001b[0m\u001b[1;33m(\u001b[0m\u001b[1;34m','\u001b[0m\u001b[1;33m)\u001b[0m\u001b[1;33m\u001b[0m\u001b[0m\n\u001b[1;32m----> 4\u001b[1;33m     \u001b[0mcovXY\u001b[0m\u001b[1;33m[\u001b[0m\u001b[0mstr\u001b[0m\u001b[1;33m(\u001b[0m\u001b[0mint\u001b[0m\u001b[1;33m(\u001b[0m\u001b[0mx\u001b[0m\u001b[1;33m)\u001b[0m\u001b[1;33m*\u001b[0m\u001b[0mint\u001b[0m\u001b[1;33m(\u001b[0m\u001b[0my\u001b[0m\u001b[1;33m)\u001b[0m\u001b[1;33m)\u001b[0m\u001b[1;33m]\u001b[0m \u001b[1;33m+=\u001b[0m \u001b[0mcd\u001b[0m\u001b[1;33m[\u001b[0m\u001b[0mi\u001b[0m\u001b[1;33m]\u001b[0m\u001b[1;33m\u001b[0m\u001b[0m\n\u001b[0m",
      "\u001b[1;31mKeyError\u001b[0m: '1'"
     ]
    }
   ],
   "source": [
    "covXY={}\n",
    "for i in list(cd.keys()):\n",
    "    x,y = i.split(',')\n",
    "    covXY[str(int(x)*int(y))] += cd[i]"
   ]
  },
  {
   "cell_type": "code",
   "execution_count": 103,
   "metadata": {},
   "outputs": [
    {
     "data": {
      "text/plain": [
       "{}"
      ]
     },
     "execution_count": 103,
     "metadata": {},
     "output_type": "execute_result"
    }
   ],
   "source": [
    "covXY"
   ]
  },
  {
   "cell_type": "code",
   "execution_count": 77,
   "metadata": {},
   "outputs": [],
   "source": [
    "def Cov_(dic):\n",
    "    \"\"\"\n",
    "    {'1,3': 11, '2,3': 9, '3': 7, '4': 5, '5': 3, '6': 1}\n",
    "    \"\"\"\n",
    "    return"
   ]
  },
  {
   "cell_type": "code",
   "execution_count": null,
   "metadata": {},
   "outputs": [],
   "source": []
  },
  {
   "cell_type": "markdown",
   "metadata": {},
   "source": [
    "##### Expected Value\n",
    "- Find expected value (aka its mean) of a random variable, if repeated a lot\n",
    "    -  Weighted average of all values, where each value is weighted by its probability of occuring.\n",
    "$$E(X) = \\sum_{x}xPR(X=x)$$\n",
    "<br>\n",
    "Rolling 1 die:\n",
    "$$= 1*\\frac{1}{6}+2*\\frac{1}{6}+3*\\frac{1}{6}+4*\\frac{1}{6}+5*\\frac{1}{6}+6*\\frac{1}{6}$$\n",
    "$$=\\frac{21}{6} = 3.5$$\n",
    "\n",
    "A bias coin has a probability $p$ of landing heads:\n",
    "    - Let X be 1 if heads, 0 if tails\n",
    "$$E(X) = 0 * P(x=0) + 1 * P(x=1)$$\n",
    "$$=0 * (1-p) + 1 * p$$\n",
    "$$=p$$\n",
    "\n",
    "##### Change in Expected Value:\n",
    "- E(x) with take a die add 1. E(x) = E(x)+1\n",
    "- take die sum them. E(x) = E(x)*2\n",
    "\n",
    "$$if V= aX+b\\ (any\\ constants\\ a,b),\\ then\\ E(V)=aE(X)+b$$\n",
    "\n",
    "##### Variance\n",
    "- Not effect by shifting all numbers uniformaly (because the 'variance between numbers do not change')\n",
    "$$if\\ V= aX+b,\\ then\\ var(V)=a^2var(X)$$\n",
    "- It is also: $var(X) = E(X - \\mu)^2,\\ where \\mu=E(X)$"
   ]
  },
  {
   "cell_type": "markdown",
   "metadata": {},
   "source": [
    "#### Dependance\n",
    "##### Independance:\n",
    "$$Pr(X=x,Y=y) = Pr(X=x)*Pr(Y=y)$$\n",
    "\n",
    "##### Correlation:\n",
    "Positively correlated: `E[XY] > E[X]*E[Y]`\n",
    "    - Average X*Y > Average X * Average Y\n",
    "    - Because the larger X's get paired with larger y, and so you get ~squaring\n",
    "Negatively correlated: `E[XY] < E[X]*E[Y]`<br>\n",
    "    - Larger values of X, get paired with smaller value of y\n",
    "Uncorrelated: `E[XY] = E[X]*E[Y]`\n",
    "\n",
    "Correlation coeffecent:\n",
    "- R=[-1,1]\n",
    "Covariance:\n",
    "    - `E[XY] - E[X]E[Y]`\n",
    "    - But that only exists in the range of [-(std(x),std(y),(std(x),std(y)]\n",
    "$$cov(x,y)\\ =\\ \\frac{E[XY] - E[X]E[Y]}{std(x)*std(y)}$$"
   ]
  },
  {
   "cell_type": "markdown",
   "metadata": {},
   "source": [
    "### 2D Generative Model\n",
    "\n",
    "Would generate 2D gausian curves over x & y variables\n",
    "These curves would have 2 features: mean & covariance matrix\n",
    "\n",
    "Mean: \n",
    "- point of highest density\n",
    "\n",
    "Covariance Matrix: \n",
    "- would show (covariance x - x, covariance x-y, covariance y-x, covariance y - y)\n",
    "\n",
    "Density: p(x1,x2) = ...a lot of stuff\n",
    "\n",
    "Note:\n",
    "    - 2D gausian can show when two variables are uncorrelated"
   ]
  },
  {
   "cell_type": "code",
   "execution_count": 12,
   "metadata": {},
   "outputs": [],
   "source": [
    "#12, 12.5, 13, 13.5, 14"
   ]
  },
  {
   "cell_type": "code",
   "execution_count": 16,
   "metadata": {},
   "outputs": [
    {
     "name": "stdout",
     "output_type": "stream",
     "text": [
      "c1\n",
      "0.23099999999999998\n",
      "\n",
      "c2\n",
      "0.0\n",
      "\n",
      "c3\n",
      "0.196\n"
     ]
    }
   ],
   "source": [
    "print('c1')\n",
    "print(.33*.7\n",
    "\n",
    ")\n",
    "print('\\nc2')\n",
    "print(.39*.0\n",
    "\n",
    ")\n",
    "print('\\nc3')\n",
    "print(.28*.7\n",
    "\n",
    ")"
   ]
  },
  {
   "cell_type": "code",
   "execution_count": null,
   "metadata": {},
   "outputs": [],
   "source": []
  }
 ],
 "metadata": {
  "kernelspec": {
   "display_name": "Python 3",
   "language": "python",
   "name": "python3"
  },
  "language_info": {
   "codemirror_mode": {
    "name": "ipython",
    "version": 3
   },
   "file_extension": ".py",
   "mimetype": "text/x-python",
   "name": "python",
   "nbconvert_exporter": "python",
   "pygments_lexer": "ipython3",
   "version": "3.6.6"
  },
  "latex_envs": {
   "LaTeX_envs_menu_present": true,
   "autoclose": false,
   "autocomplete": true,
   "bibliofile": "biblio.bib",
   "cite_by": "apalike",
   "current_citInitial": 1,
   "eqLabelWithNumbers": true,
   "eqNumInitial": 1,
   "hotkeys": {
    "equation": "Ctrl-E",
    "itemize": "Ctrl-I"
   },
   "labels_anchors": false,
   "latex_user_defs": false,
   "report_style_numbering": false,
   "user_envs_cfg": false
  }
 },
 "nbformat": 4,
 "nbformat_minor": 2
}
