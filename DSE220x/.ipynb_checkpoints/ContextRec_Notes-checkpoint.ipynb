{
 "cells": [
  {
   "cell_type": "markdown",
   "metadata": {},
   "source": [
    "## \"Context Required\" Notes"
   ]
  },
  {
   "cell_type": "markdown",
   "metadata": {},
   "source": [
    "### Week 1"
   ]
  },
  {
   "cell_type": "markdown",
   "metadata": {},
   "source": [
    "#### Event of interest\n",
    "$A$ = subset  of  outcomes<br>\n",
    "$A = {(z_{1}+z_{2}):z_{1}+z_{2} = 10}$<br>\n",
    "$A = \\{(4,6), (5,5), (6,4)\\}$<br>\n",
    "$P_{(A)} = 3 * \\frac{1}{36} = \\frac{1}{12}$"
   ]
  },
  {
   "cell_type": "markdown",
   "metadata": {},
   "source": [
    "##### Higher complexity problem:<br>\n",
    "We measure a patient's `tempurature` and `blood pressure` to predict if they have a `disease`\n",
    "\n",
    "This is 3 events:\n",
    "    - The event that a patient has that particular blood pressure.\n",
    "    - The event that a patient has that tempurature\n",
    "    - The event that a patient has a disease.\n",
    "We can observe 2 events and wonder about the 3rd"
   ]
  },
  {
   "cell_type": "markdown",
   "metadata": {},
   "source": [
    "#### Multiple Events\n",
    "You have 10 coins, 9 are fair, one always shows tails.\n",
    "    - You close your eyes and pick a coin\n",
    "    - You toss it 4 times and it comes up tails each time\n",
    "##### What is the probability you picked the bad coin\n",
    "\n",
    "#### Sample Space\n",
    "    - (coin#, toss1, toss2, toss3, toss4)\n",
    "\n",
    "$$\\Omega = \\{1,2...10\\}x\\{H,T\\}x\\{H,T\\}x\\{H,T\\}x\\{H,T\\}$$\n",
    "$$\\Omega = \\{1,2...10\\}x\\{H,T\\}^4$$\n",
    "\n",
    "#### Event\n",
    "$A = Picked\\ the\\ bad\\ coin$<br>\n",
    "$A = \\{(10,-,-,-)\\}$<br><br>\n",
    "$B = All\\ coins\\ are\\ tails$<br>\n",
    "$B = \\{(-,T,T,T)\\}$<br><br>\n",
    "\n",
    "$$P_{(A\\ and\\ B)} = P_{(A\\cap B)}$$\n",
    "$$=  P_{bad\\ coin}*P_{(all\\ tails|bad\\ coin)}$$\n",
    "$$= \\frac{1}{10} * 1 = \\frac{1}{10}$$\n",
    "\n",
    "#### Conditioning\n",
    "For two events `A,B` conditional probability\n",
    "$$P_{(B|A)} = probability\\ that\\ B\\  occurs,\\ given\\ that\\ A\\  occurs$$\n",
    "$$P_{(A\\cap B)} = P_{A}*P_{(B|A)}$$\n",
    "\n",
    "##### our example:\n",
    "    - A: bad coin is chosen\n",
    "    - B: all four tosses are tails\n",
    "    - Want: P(A|B)\n",
    "    \n",
    "$$P_{(A|B)} = \\frac{P_{(A\\cap B)}}{P_{(B)}} = \\frac{\\frac{1}{10}}{P_{B}}$$\n",
    "\n",
    "$P_{(B)} = P_{(all\\ tails)}$<br>\n",
    "$= P_{(bad\\ coin,all\\ tails)}+P_{(not\\ bad\\ coin,all\\ tails)}$<br>\n",
    "$= \\frac{1}{10}*1 + \\frac{9}{10}*(\\frac{1}{2})^4$<br>\n",
    "$= \\frac{1}{10}*1 + \\frac{9}{10}*\\frac{1}{16}$<br>\n",
    "$= \\frac{25}{160}$<br>\n",
    "$= \\frac{5}{32}$<br><br><br>\n",
    "\n",
    "$$P_{(A|B)} = \\frac{P_{(A\\cap B)}}{P_{(B)}} = \\frac{\\frac{1}{10}}{\\frac{5}{32}}$$\n",
    "$$=0.64$$\n",
    "$$64\\%$$"
   ]
  },
  {
   "cell_type": "markdown",
   "metadata": {},
   "source": [
    "### Bayes' rule\n",
    "Two events `A,B`\n",
    "    - We are interested in `A`\n",
    "    - We can observe `B`\n",
    "Given that B occured, how does it alter the probability of A?\n",
    "If we observe nothing about B:\n",
    "$$P_{(A)} = P_{(A)}$$<br>\n",
    "If we observe B:\n",
    "$$P_{(A|B)} = P_{(A)}x\\frac{P_{(B|A)}}{P_{(B)}}$$<br>\n",
    "\n",
    "The difference is a multiplicative correction factor:\n",
    "$$P_{(A|B)} = \\frac{P_{(A)}x\\ P_{(B|A)}}{P_{(B)}}$$<br>\n",
    "$$P_{(A|B)} = \\frac{P_{(A\\cap B)}}{P_{(B)}}$$<br>"
   ]
  },
  {
   "cell_type": "markdown",
   "metadata": {},
   "source": [
    "1/50*(.5/(1/10))"
   ]
  },
  {
   "cell_type": "markdown",
   "metadata": {},
   "source": [
    "Conditional Probability:<br>\n",
    "A:\n",
    "    - There are 50 states\n",
    "What is the probability person X lives in Mass?\n",
    "$$=\\frac{1}{50}$$\n",
    "\n",
    "B:\n",
    "    - A phone holds 100 people's numbers\n",
    "    - US census suggests that 1/1000 people are trans\n",
    "What is the probability a person X has the number of someone who is trans in their phone?<br>\n",
    "$$=\\frac{1}{1000}_{1}+\\frac{1}{1000}_{2}+\\frac{1}{1000}_{3}...+\\frac{1}{1000}_{100}$$\n",
    "$$=\\frac{100}{1000}$$\n",
    "$$=\\frac{1}{10}$$\n",
    "\n",
    "New info:\n",
    "    - People in Mass are 50% likely to know someone trans\n",
    "    \n",
    "New Question?\n",
    "- If person X has the number of someone trans in their phone, How likely are they to live in Mass?\n",
    "\n",
    "<br>\n",
    "Initally without B:\n",
    "\n",
    "~~If person X has the number of someone trans in their phone,~~  How likely are they to live in Mass?\n",
    "\n",
    "$$P_{A} = \\frac{1}{50}$$\n",
    "\n",
    "<br>\n",
    "Given B:\n",
    "\n",
    "If person X has the number of someone trans in their phone, How likely are they to live in Mass?\n",
    "\n",
    "$$P_{(A|B)} = P_{(A)}x\\frac{P_{(B|A)}}{P_{(B)}}$$<br>\n",
    "<br>\n",
    "$$=\\frac{1}{50}x\\frac{50\\%}{P_{(B)}}$$<br>\n",
    "$$=\\frac{1}{50}x\\frac{50\\%}{\\frac{1}{10}}$$<br>\n",
    "$$=\\frac{1}{50}x\\frac{\\frac{1}{2}}{\\frac{1}{10}}$$<br>\n",
    "$$=\\frac{1}{50}x5$$<br>\n",
    "$$P_{(A|B)}=\\frac{1}{10}$$"
   ]
  },
  {
   "cell_type": "markdown",
   "metadata": {},
   "source": [
    "#### Wine classification\n",
    "##### You have a bottle of wine w/o a label, which winery is it from `[1,2,3]`?\n",
    "\n",
    "Training set: 130 Bottles\n",
    "    - Winery 1: 43 Bottles\n",
    "    - Winery 2: 51 Bottles\n",
    "    - Winery 3: 36 Bottles\n",
    "    - Each bottle has 13 features:\n",
    "        - `alcohol, malic acid, ash, ...... blah`\n",
    "\n",
    "<img src=\"https://i.ytimg.com/vi/5ElcLbzC-qg/maxresdefault.jpg\" width=\"400\">\n",
    "\n",
    "Generative approach:\n",
    "- Fit a distriubtion for each winery\n",
    "    - P1(x)=distriubtion of data from winery 3\n",
    "- Distribution of data:\n",
    "    - What percentage of data comes from winery 1,2,3\n",
    "    \n",
    "$$\\pi_{1}+\\pi_{2}+\\pi_{3} = 1$$\n",
    "\n",
    "Process:\n",
    "    - find\n",
    "$$\\pi_{1}P_{1}(x)$$\n",
    "$$\\pi_{2}P_{2}(x)$$\n",
    "$$\\pi_{3}P_{3}(x)$$\n",
    "    - Using:\n",
    "$$P_{(y=j|x)} = \\frac{P_{(y=j)}*P_{(x|y=j)}}{P_{x}}=\\frac{\\pi_{j}P_{j}(x)}{P_{(x)}}$$\n",
    "    - Class `j` with the greatest:\n",
    "$$\\pi_{j}P_{j}(x)$$\n",
    "\n",
    "English\n",
    "    - Probability label `j` given specific features `x`\n",
    "    - Equals Proability of having label `j` * Probability of seeing `x` in label `j`\n",
    "        - over overall probability of seeing `x`\n",
    "\n",
    "\n"
   ]
  },
  {
   "cell_type": "markdown",
   "metadata": {},
   "source": [
    "##### Class weights\n",
    "$$\\pi_{1}=\\frac{43}{130} = 0.33\\ \\pi_{2}=\\frac{51}{130} = 0.39,\\ \\pi_{3}=\\frac{36}{130} = 0.28$$\n",
    "\n",
    "- Let us only choose 1 feature: `Alcohol` & gaussian distrubiton\n",
    "    - to fit a gaussian we need the mean & standard dev\n",
    "$$ =N(mean,std)$$\n",
    "    \n",
    "_video:\n",
    "$$\\pi_{1} = 0.33,\\ P_{1}=N(13.7,0.20)$$\n",
    "$$\\pi_{2} = 0.39,\\ P_{2}=N(12.3,0.28)$$\n",
    "$$\\pi_{3} = 0.28,\\ P_{3}=N(13.2,0.27)$$\n",
    "- Lets assume: `alcohol` = 12.5\n"
   ]
  },
  {
   "cell_type": "code",
   "execution_count": null,
   "metadata": {},
   "outputs": [],
   "source": []
  }
 ],
 "metadata": {
  "kernelspec": {
   "display_name": "Python [default]",
   "language": "python",
   "name": "python3"
  },
  "language_info": {
   "codemirror_mode": {
    "name": "ipython",
    "version": 3
   },
   "file_extension": ".py",
   "mimetype": "text/x-python",
   "name": "python",
   "nbconvert_exporter": "python",
   "pygments_lexer": "ipython3",
   "version": "3.6.4"
  }
 },
 "nbformat": 4,
 "nbformat_minor": 2
}
