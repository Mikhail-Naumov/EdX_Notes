{
 "cells": [
  {
   "cell_type": "markdown",
   "metadata": {
    "heading_collapsed": true
   },
   "source": [
    "## Rubric"
   ]
  },
  {
   "cell_type": "markdown",
   "metadata": {
    "hidden": true
   },
   "source": [
    "##### Material\n",
    "- Week 1:\n",
    "    - Nearest Neighbor\n",
    "    - Distance Functions\n",
    "    - Metric Space\n",
    "- Week 2:\n",
    "    - 2D Generative Classification\n",
    "    - Bayes\n",
    "        - Probability Space\n",
    "        - Expectied Value\n",
    "        - Sample Space\n",
    "        - Variance\n",
    "        - Dependances\n",
    "        - Independance\n",
    "        - Correlation\n",
    "- Week 3:\n",
    "    - "
   ]
  },
  {
   "cell_type": "markdown",
   "metadata": {
    "hidden": true
   },
   "source": [
    "##### General Structure\n",
    "- Probablilty:\n",
    "    - Probability spaces\n",
    "    - Bayes' rule\n",
    "    - Random variables\n",
    "    - Mean & variance\n",
    "- Linear Algebra:\n",
    "    - Matrices and vectors\n",
    "    - Projection\n",
    "    - Positive Definiteness\n",
    "    - Eigandecomposition\n",
    "    - Spectral decomposition\n",
    "- Optimization:\n",
    "    - Gradient descent\n",
    "    - Stochastic gradient descent\n",
    "    - Convex optimization\n",
    "    - Duality\n",
    "    \n",
    "##### Machine Learning vs Algorithm:\n",
    "- Both\n",
    "    - Develop procedures that exhibit a desired input-output behavior\n",
    "- Algorithms:\n",
    "    - Steps/mapping: input-output mapping can be precisely expressed or defined\n",
    "        - Input: Graph G, 2 nodes u,v in the graph\n",
    "        - Output: Shortest path from u to v in G\n",
    "- Machine Learning: \n",
    "    - Steps/mapping: steps from input-output cannot be easily explained expressed or defined\n",
    "        - Input: Picture of animal\n",
    "        - Output: Names of animal\n",
    "    \n",
    "    \n"
   ]
  },
  {
   "cell_type": "markdown",
   "metadata": {},
   "source": [
    "## W1 Nearest Neighbors"
   ]
  },
  {
   "cell_type": "markdown",
   "metadata": {},
   "source": [
    "### Distance functions:"
   ]
  },
  {
   "cell_type": "markdown",
   "metadata": {},
   "source": [
    "4-dimensional Euclidean Space is written as:\n",
    "$${\\rm I\\!R}^{4}$$"
   ]
  },
  {
   "cell_type": "markdown",
   "metadata": {},
   "source": [
    "\n",
    "##### Taxicab Distance ($l_{1}$): sum of length of legs\n",
    "$$||x-z||_{1} =\\sum_{i=1}^{m}|x_{i}-z_{i}|$$\n",
    "- Metric Space (All the points whos $l_{1}$ length is 1): looks like a diamond\n",
    "<br><br><br>\n",
    "\n",
    "##### Euclidean Distance ($l_{2}$): crow flies distance\n",
    "$$||x-z||_{2} = \\sqrt{\\sum_{i=1}^{m}(x_{i}-z_{i})^2}$$\n",
    "- Metric Space: looks like a circle\n",
    "<br><br><br>\n",
    "\n",
    "##### For p>1, $l_{p}$ Distance:\n",
    "$$||x-z||_{p} = (\\sum_{i=1}^{m}|x_{i}-z_{i}|^p)^{1/p}$$\n",
    "- Metric Space: looks like a $p$ space sphere\n",
    "<br><br><br>\n",
    "\n",
    "##### Chebyshev Distance ($l\\infty$): \n",
    "$$||x-z||_{\\infty} = max_{i}|x_{i}-z_{i}|$$\n",
    "    - The single coordinate on which the distance between x and z is the greatest.\n",
    "    - You look at larger and larger values of P and find the limit.\n",
    "- Metric Space: looks like a square"
   ]
  },
  {
   "cell_type": "code",
   "execution_count": 30,
   "metadata": {},
   "outputs": [
    {
     "data": {
      "text/plain": [
       "25.0"
      ]
     },
     "execution_count": 30,
     "metadata": {},
     "output_type": "execute_result"
    }
   ],
   "source": [
    "lp_dist([1,3,5,7,9],[0,0,0,0,0],1)"
   ]
  },
  {
   "cell_type": "code",
   "execution_count": 52,
   "metadata": {
    "ExecuteTime": {
     "end_time": "2018-09-06T19:51:36.707088Z",
     "start_time": "2018-09-06T19:51:36.700447Z"
    }
   },
   "outputs": [],
   "source": [
    "p1 = [-1,1,-1,1]\n",
    "p2 = [1,1,1,1]\n",
    "p = 2"
   ]
  },
  {
   "cell_type": "code",
   "execution_count": 28,
   "metadata": {
    "ExecuteTime": {
     "end_time": "2018-09-06T19:51:37.712304Z",
     "start_time": "2018-09-06T19:51:37.704939Z"
    }
   },
   "outputs": [],
   "source": [
    "def lp_dist(p1,p2,p):\n",
    "    \"\"\"given 2 vectors and dimensional space, calculate distance\n",
    "    p1: first vector\n",
    "    p2: second vector\n",
    "    p: dimensional space \n",
    "        (p=1 : taxicab distance\n",
    "         p=2 : euclidean distance)\n",
    "    eg. \n",
    "        p1 = [-1,1,-1,1]\n",
    "        p2 = [1,1,1,1]\n",
    "        p = 2\n",
    "        lp_dist(p1,p2,p)\n",
    "            2.83\"\"\"\n",
    "    \n",
    "    if len(p1) != len(p2): \n",
    "        print(\"\"\"Cannot find distance between p1 with length of {} and p2 with length of {}\n",
    "        \"\"\".format(len(p1),len(p2)))\n",
    "        return\n",
    "    def abs(x): return ((x)**2)**.5\n",
    "    return sum([abs(p1[i]-p2[i])**p for i in range(len(p1))])**(1/p)"
   ]
  },
  {
   "cell_type": "code",
   "execution_count": 59,
   "metadata": {
    "ExecuteTime": {
     "end_time": "2018-09-06T19:52:14.316705Z",
     "start_time": "2018-09-06T19:52:14.312106Z"
    }
   },
   "outputs": [
    {
     "data": {
      "text/plain": [
       "2.0139111001134378"
      ]
     },
     "execution_count": 59,
     "metadata": {},
     "output_type": "execute_result"
    }
   ],
   "source": [
    "lp_dist(p1,p2,100)"
   ]
  },
  {
   "cell_type": "code",
   "execution_count": 74,
   "metadata": {},
   "outputs": [
    {
     "name": "stdout",
     "output_type": "stream",
     "text": [
      "1.0\n",
      "1.0\n"
     ]
    }
   ],
   "source": [
    "print(lp_dist([1],[0],2))\n",
    "print(lp_dist([1],[0],1))\n"
   ]
  },
  {
   "cell_type": "code",
   "execution_count": null,
   "metadata": {},
   "outputs": [],
   "source": [
    "lp_dist([1,2],[0,0],1)"
   ]
  },
  {
   "cell_type": "code",
   "execution_count": 50,
   "metadata": {},
   "outputs": [],
   "source": [
    "from math import sqrt"
   ]
  },
  {
   "cell_type": "code",
   "execution_count": 51,
   "metadata": {},
   "outputs": [
    {
     "data": {
      "text/plain": [
       "3.4641016151377544"
      ]
     },
     "execution_count": 51,
     "metadata": {},
     "output_type": "execute_result"
    }
   ],
   "source": [
    "2*sqrt(3)"
   ]
  },
  {
   "cell_type": "code",
   "execution_count": null,
   "metadata": {},
   "outputs": [],
   "source": []
  },
  {
   "cell_type": "markdown",
   "metadata": {},
   "source": [
    "### Metric Space:"
   ]
  },
  {
   "cell_type": "markdown",
   "metadata": {},
   "source": [
    "Say we want to find a distance function that is fine tuned to a particular domain, or distance functions between values that are not numbers.\n",
    "<br>\n",
    "<br>\n",
    "X: any data space\n",
    "<br>\n",
    "A distance function: \n",
    "$${d: X * X \\rightarrow {\\rm I\\!R}}$$\n",
    "is metric if:\n",
    "- $d(x,y)>=0$ (non negative)\n",
    "- $d(x,y)=0$ if and only if x = y\n",
    "- $d(x,y) = d(y,x)$ (symmetry)\n",
    "- $d(x,z)<= d(x,y) + d(y,z)$ (triangle inequality)"
   ]
  },
  {
   "cell_type": "markdown",
   "metadata": {
    "heading_collapsed": true
   },
   "source": [
    "#### Edit distance (metric distance function):"
   ]
  },
  {
   "cell_type": "markdown",
   "metadata": {
    "hidden": true
   },
   "source": [
    "###### If we are comparing Genes\n",
    "- with strings of:<br>\n",
    "`{'a','c','g','t'}*`<br>\n",
    "`x = ['a','c','c','g','t']`<br>\n",
    "`y = ['c','c','g','t']`\n",
    "<br> \n",
    "x and y are quite similar\n",
    "- if you add `'a'` to y, you get x\n",
    "- if you remove `'a'` from x, you get y\n",
    "<br>\n",
    "\n",
    "Edit distance, $d(x,y)$ is the # of `insertions, deletions, substitutions` to get from x to y\n",
    "\n",
    "- $d(x,y)>=0$ (non negative) $TRUE$\n",
    "- $d(x,y)=0$ if and only if x = y $TRUE$\n",
    "- $d(x,y) = d(y,x)$ (symmetry) $TRUE$\n",
    "- $d(x,z)<= d(x,y) + d(y,z)$ (triangle inequality) $TRUE$"
   ]
  },
  {
   "cell_type": "markdown",
   "metadata": {},
   "source": [
    "#### Kullback - Leibler divergence (relative entropy) (non metric distance function)"
   ]
  },
  {
   "cell_type": "markdown",
   "metadata": {},
   "source": [
    "###### Let $p,q$ be probability distrubtion on some set $X$\n",
    "$$d(p,q) = \\sum_{x\\in{X}}{p(x)\\log{\\frac{p(x)}{q(x)}}}$$\n",
    "\n",
    "###### eg.\n",
    "$p = (\\frac{1}{2},\\frac{1}{4},\\frac{1}{8},\\frac{1}{8})$<br>\n",
    "$q = (\\frac{1}{6},\\frac{1}{3},\\frac{1}{3},\\frac{1}{6})$\n",
    "\n",
    "$$d(p,q) = \n",
    "\\frac{1}{2}\\log\\frac{\\frac{1}{2}}{\\frac{1}{6}}+\n",
    "\\frac{1}{4}\\log\\frac{\\frac{1}{4}}{\\frac{1}{3}}+\n",
    "\\frac{1}{8}\\log\\frac{\\frac{1}{8}}{\\frac{1}{3}}+\n",
    "\\frac{1}{8}\\log\\frac{\\frac{1}{8}}{\\frac{1}{6}}$$\n",
    "\n",
    "- $d(x,y)>=0$ (non negative) $TRUE$\n",
    "- $d(x,y)=0$ if and only if x = y $TRUE$\n",
    "- $d(x,y) = d(y,x)$ (symmetry) $FALSE$\n",
    "- $d(x,z)<= d(x,y) + d(y,z)$ (triangle inequality) $FALSE$\n",
    "\n",
    "\n",
    "    - Thus Non-Metric"
   ]
  },
  {
   "cell_type": "code",
   "execution_count": 43,
   "metadata": {
    "ExecuteTime": {
     "end_time": "2018-09-06T19:27:30.339164Z",
     "start_time": "2018-09-06T19:27:30.332183Z"
    }
   },
   "outputs": [],
   "source": [
    "p = [.5,.2,.2,.1]\n",
    "q = [.25,.25,.25,.25]"
   ]
  },
  {
   "cell_type": "code",
   "execution_count": 44,
   "metadata": {
    "ExecuteTime": {
     "end_time": "2018-09-06T19:29:06.018415Z",
     "start_time": "2018-09-06T19:29:06.012876Z"
    }
   },
   "outputs": [],
   "source": [
    "def kl(p,q):\n",
    "    \"\"\"\n",
    "    Kullback - Leibler divergence\n",
    "                                p(x)\n",
    "    d(p,q) = Sum of ( p(x)*log( ---- )\n",
    "                                q(x) \n",
    "    \n",
    "\n",
    "    \"\"\"\n",
    "    from math import log\n",
    "    def kl_sub(a,b): return(a*log(a/b))\n",
    "    return sum([kl_sub(p[i],q[i]) for i in range(len(p))])"
   ]
  },
  {
   "cell_type": "code",
   "execution_count": 45,
   "metadata": {
    "ExecuteTime": {
     "end_time": "2018-09-06T19:27:38.146442Z",
     "start_time": "2018-09-06T19:27:38.141196Z"
    }
   },
   "outputs": [
    {
     "data": {
      "text/plain": [
       "0.16568709656687328"
      ]
     },
     "execution_count": 45,
     "metadata": {},
     "output_type": "execute_result"
    }
   ],
   "source": [
    "kl(p,q)"
   ]
  },
  {
   "cell_type": "code",
   "execution_count": 46,
   "metadata": {},
   "outputs": [
    {
     "data": {
      "text/plain": [
       "0.16735766348565734"
      ]
     },
     "execution_count": 46,
     "metadata": {},
     "output_type": "execute_result"
    }
   ],
   "source": [
    "kl(q,p)"
   ]
  },
  {
   "cell_type": "markdown",
   "metadata": {},
   "source": [
    "## W2"
   ]
  },
  {
   "cell_type": "markdown",
   "metadata": {},
   "source": [
    "#### Generative Classification:\n",
    "- with $A$ and $B$ labels\n",
    "- Look only at $A$ and fit a model to them, then repeat for the $B$, when a new point comes along, ask <br>`what is the probability that the new point comes from A or B model`?\n",
    "\n",
    "For each class j, we have:\n",
    "- Probabilty of that class $\\pi_{j}=Pr(y=j)$\n",
    "- Distribution of data in that class, $P_{j}(x)$\n",
    "Joint Distribution: $Pr(x,y) = Pr(y)Pr(x|y) = \\pi_{y}P_{y}(x)$"
   ]
  },
  {
   "cell_type": "markdown",
   "metadata": {},
   "source": [
    "#### Probabilty spaces\n",
    "    - Summary of all info we need to answer an experiment\n",
    "    eg. roll 2 dice, what is the probability that they add to 10\n",
    "##### Sample space (space of outcomes)\n",
    "   - ss = {(1,1), (1,2), ... (1,6),(2,1),... (6,6)}\n",
    "   -    = {1,2...5,6} for dice 1, {1,2...5,6} for dice 2\n",
    "   -    = $({1,2,3,4,5,6})^2$ <br>\n",
    "   -    = 36\n",
    "   \n",
    "##### Probability of outcomes (summing to 1)\n",
    "   - each outcome is equally likely \n",
    "   $\\frac{1}{36}$\n",
    "   \n",
    "#### "
   ]
  },
  {
   "cell_type": "code",
   "execution_count": 5,
   "metadata": {
    "ExecuteTime": {
     "end_time": "2018-10-31T00:59:29.416738Z",
     "start_time": "2018-10-31T00:59:29.411757Z"
    }
   },
   "outputs": [],
   "source": [
    "### FInD Stuff on E"
   ]
  },
  {
   "cell_type": "code",
   "execution_count": 4,
   "metadata": {
    "ExecuteTime": {
     "end_time": "2018-10-31T00:59:15.370285Z",
     "start_time": "2018-10-31T00:59:15.366296Z"
    }
   },
   "outputs": [],
   "source": [
    "#### OTHER NOte"
   ]
  },
  {
   "cell_type": "markdown",
   "metadata": {
    "heading_collapsed": true
   },
   "source": [
    "#### Example:"
   ]
  },
  {
   "cell_type": "markdown",
   "metadata": {
    "hidden": true
   },
   "source": [
    "###### Random Variable\n",
    "Roll two dice, let X be their sum.\n",
    "###### Probability Space:\n",
    "$$\\Omega = \\{1,2,3,4,5,6\\}^2$$\n",
    "Random variable $x$ lies in $\\{1,2,3,4,5,6,7,8,9,10,11,12\\}$"
   ]
  },
  {
   "cell_type": "code",
   "execution_count": 1,
   "metadata": {
    "ExecuteTime": {
     "end_time": "2018-10-31T00:56:15.666612Z",
     "start_time": "2018-10-31T00:56:15.661625Z"
    },
    "hidden": true
   },
   "outputs": [],
   "source": [
    "d = {str(i):0 for i in range(1,7)}"
   ]
  },
  {
   "cell_type": "code",
   "execution_count": 2,
   "metadata": {
    "ExecuteTime": {
     "end_time": "2018-10-31T00:56:16.417604Z",
     "start_time": "2018-10-31T00:56:16.413615Z"
    },
    "hidden": true
   },
   "outputs": [],
   "source": [
    "for i in range(1,7):\n",
    "    for j in range(1,7):\n",
    "        d[str(min(i,j))] += 1"
   ]
  },
  {
   "cell_type": "code",
   "execution_count": 3,
   "metadata": {
    "ExecuteTime": {
     "end_time": "2018-10-31T00:56:19.617052Z",
     "start_time": "2018-10-31T00:56:19.608082Z"
    },
    "hidden": true
   },
   "outputs": [
    {
     "data": {
      "text/plain": [
       "{'1': 11, '2': 9, '3': 7, '4': 5, '5': 3, '6': 1}"
      ]
     },
     "execution_count": 3,
     "metadata": {},
     "output_type": "execute_result"
    }
   ],
   "source": [
    "d"
   ]
  },
  {
   "cell_type": "code",
   "execution_count": 1,
   "metadata": {
    "ExecuteTime": {
     "end_time": "2018-10-31T00:05:17.645853Z",
     "start_time": "2018-10-31T00:05:17.639868Z"
    },
    "hidden": true
   },
   "outputs": [],
   "source": [
    "def Find_E_n_Var(dic):\n",
    "    \"\"\"\n",
    "    takes in dic, with keys = possible values & values = instances\n",
    "    \"\"\"\n",
    "    count = sum(dic.values())\n",
    "    e = 0\n",
    "    for i in dic.keys():\n",
    "        e += (int(i)*dic[i]/count)\n",
    "    var = 0\n",
    "    for i in dic.keys():\n",
    "        var += ((int(i)-e)**2)*dic[i]/count\n",
    "    print(\"e  : {}\\nvar: {}\".format(e,var))\n",
    "    return"
   ]
  },
  {
   "cell_type": "code",
   "execution_count": 74,
   "metadata": {
    "hidden": true
   },
   "outputs": [
    {
     "name": "stdout",
     "output_type": "stream",
     "text": [
      "e  : 2.5277777777777777\n",
      "var: 1.9714506172839508\n"
     ]
    }
   ],
   "source": [
    "Find_E_n_Var(d)"
   ]
  },
  {
   "cell_type": "code",
   "execution_count": 7,
   "metadata": {
    "ExecuteTime": {
     "end_time": "2018-10-31T00:59:55.108070Z",
     "start_time": "2018-10-31T00:59:55.104081Z"
    },
    "hidden": true
   },
   "outputs": [],
   "source": [
    "# for finding cov within X,Y variables\n",
    "cd = {}\n",
    "for i in ['-1','0','1']:\n",
    "    for j in ['-1','0','1']:\n",
    "        cd[i+','+j]=0\n",
    "cd['-1,1']=1/3\n",
    "cd['0,0'] = 1/3\n",
    "cd['1,-1']=1/3"
   ]
  },
  {
   "cell_type": "code",
   "execution_count": 9,
   "metadata": {
    "ExecuteTime": {
     "end_time": "2018-10-31T00:59:59.440503Z",
     "start_time": "2018-10-31T00:59:59.435502Z"
    },
    "hidden": true
   },
   "outputs": [],
   "source": [
    "x,y = list(cd.keys())[0].split(',')"
   ]
  },
  {
   "cell_type": "code",
   "execution_count": 27,
   "metadata": {
    "ExecuteTime": {
     "end_time": "2018-10-31T01:04:26.555523Z",
     "start_time": "2018-10-31T01:04:26.550536Z"
    },
    "hidden": true
   },
   "outputs": [],
   "source": [
    "covXY={}\n",
    "for i in list(cd.keys()):\n",
    "    x,y = i.split(',')\n",
    "    #######covXY[str(x)+','+str(y)] = cd['{},{}'.format(x,y)]"
   ]
  },
  {
   "cell_type": "code",
   "execution_count": 29,
   "metadata": {
    "ExecuteTime": {
     "end_time": "2018-10-31T01:05:03.842859Z",
     "start_time": "2018-10-31T01:05:03.838868Z"
    },
    "hidden": true
   },
   "outputs": [],
   "source": [
    "def Cov_(dic):\n",
    "    \"\"\"\n",
    "    {'1,3': 11, '2,3': 9, '3': 7, '4': 5, '5': 3, '6': 1}\n",
    "    \"\"\"\n",
    "    return"
   ]
  },
  {
   "cell_type": "code",
   "execution_count": null,
   "metadata": {
    "hidden": true
   },
   "outputs": [],
   "source": []
  },
  {
   "cell_type": "markdown",
   "metadata": {},
   "source": [
    "#### Expected Value\n",
    "- Find expected value (aka its mean) of a random variable, if repeated a lot\n",
    "    -  Weighted average of all values, where each value is weighted by its probability of occuring.\n",
    "$$E(X) = \\sum_{x}xPR(X=x)$$\n",
    "<br>\n",
    "Rolling 1 die:\n",
    "$$= 1*\\frac{1}{6}+2*\\frac{1}{6}+3*\\frac{1}{6}+4*\\frac{1}{6}+5*\\frac{1}{6}+6*\\frac{1}{6}$$\n",
    "$$=\\frac{21}{6} = 3.5$$\n",
    "\n",
    "A bias coin has a probability $p$ of landing heads:\n",
    "    - Let X be 1 if heads, 0 if tails\n",
    "$$E(X) = 0 * P(x=0) + 1 * P(x=1)$$\n",
    "$$=0 * (1-p) + 1 * p$$\n",
    "$$=p$$\n",
    "\n",
    "##### Change in Expected Value:\n",
    "- E(x) with take a die add 1. E(x) = E(x)+1\n",
    "- take die sum them. E(x) = E(x)*2\n",
    "\n",
    "$$if V= aX+b\\ (any\\ constants\\ a,b),\\ then\\ E(V)=aE(X)+b$$\n",
    "\n",
    "##### Variance\n",
    "- Not effect by shifting all numbers uniformaly (because the 'variance between numbers do not change')\n",
    "$$if\\ V= aX+b,\\ then\\ var(V)=a^2var(X)$$\n",
    "- It is also: $var(X) = E(X - \\mu)^2,\\ where \\mu=E(X)$"
   ]
  },
  {
   "cell_type": "markdown",
   "metadata": {},
   "source": [
    "#### Dependance\n",
    "##### Independance:\n",
    "$$Pr(X=x,Y=y) = Pr(X=x)*Pr(Y=y)$$\n",
    "\n",
    "##### Correlation:\n",
    "Positively correlated: `E[XY] > E[X]*E[Y]`\n",
    "    - Average X*Y > Average X * Average Y\n",
    "    - Because the larger X's get paired with larger y, and so you get ~squaring\n",
    "Negatively correlated: `E[XY] < E[X]*E[Y]`<br>\n",
    "    - Larger values of X, get paired with smaller value of y\n",
    "Uncorrelated: `E[XY] = E[X]*E[Y]`\n",
    "\n",
    "Correlation coeffecent:\n",
    "- R=[-1,1]\n",
    "Covariance:\n",
    "    - `E[XY] - E[X]E[Y]`\n",
    "    - But that only exists in the range of [-(std(x),std(y),(std(x),std(y)]\n",
    "$$cov(x,y)\\ =\\ \\frac{E[XY] - E[X]E[Y]}{std(x)*std(y)}$$"
   ]
  },
  {
   "cell_type": "markdown",
   "metadata": {},
   "source": [
    "### 2D Generative Model\n"
   ]
  },
  {
   "cell_type": "markdown",
   "metadata": {},
   "source": [
    "Would generate 2D gausian curves over $X$ & $Y$ variables\n",
    "These curves would have 2 features: mean & covariance matrix\n",
    "\n",
    "Mean: \n",
    "- point of highest density\n",
    "\n",
    "Covariance Matrix: \n",
    "- would show (\n",
    "    - covariance $X$ vs $X$, \n",
    "    - covariance $X$ vs $Y$, \n",
    "    - covariance $Y$ vs $X$, \n",
    "    - covariance $Y$ vs $Y$)\n",
    "\n",
    "Density: p($X$1,$X$2) = ...a lot of stuff\n",
    "\n",
    "Note:\n",
    "    - 2D gausian can show when two variables are uncorrelated\n",
    "    \n",
    "Purpose/Process:\n",
    "    - Would iteratively run through all combinations of feature pairs and find the errors with each pair."
   ]
  },
  {
   "cell_type": "code",
   "execution_count": null,
   "metadata": {},
   "outputs": [],
   "source": []
  },
  {
   "cell_type": "markdown",
   "metadata": {
    "heading_collapsed": true
   },
   "source": [
    "## W3"
   ]
  },
  {
   "cell_type": "markdown",
   "metadata": {
    "hidden": true
   },
   "source": [
    "#### Properties:"
   ]
  },
  {
   "cell_type": "markdown",
   "metadata": {
    "hidden": true
   },
   "source": [
    "* $I_kB = B$ and $A I_k = A$\n",
    "* Can check: $(AB)^T = B^TA^T$\n",
    "* for vectors u,v: $u^Tv = u*v$\n",
    "    - $x^Tx = ||x||^2$\n",
    "    - $x^Tx$ = (length of x)squared\n",
    "* for vector x: $x^Tx \\neq xx^T$\n",
    "\n",
    "* Associative but not commutative\n",
    "    - Not commutative: $AB \\neq BA$\n",
    "    - Is Associative: $ABCD = (AB)(CD) = (A(CB))D$"
   ]
  },
  {
   "cell_type": "markdown",
   "metadata": {
    "hidden": true
   },
   "source": [
    "#### Linear Algebra Review 2"
   ]
  },
  {
   "cell_type": "markdown",
   "metadata": {
    "hidden": true
   },
   "source": [
    "\\[\n",
    "\\begin{bmatrix}\n",
    "    x_{11}       & x_{12} & x_{13} & \\dots & x_{1n} \\\\\n",
    "    x_{21}       & x_{22} & x_{23} & \\dots & x_{2n} \\\\\n",
    "    x_{d1}       & x_{d2} & x_{d3} & \\dots & x_{dn}\n",
    "\\end{bmatrix}\n",
    "=\n",
    "\\begin{bmatrix}\n",
    "    x_{11} & x_{12} & x_{13} & \\dots  & x_{1n} \\\\\n",
    "    x_{21} & x_{22} & x_{23} & \\dots  & x_{2n} \\\\\n",
    "    \\vdots & \\vdots & \\vdots & \\ddots & \\vdots \\\\\n",
    "    x_{d1} & x_{d2} & x_{d3} & \\dots  & x_{dn}\n",
    "\\end{bmatrix}\n",
    "\\]"
   ]
  },
  {
   "cell_type": "markdown",
   "metadata": {
    "hidden": true
   },
   "source": [
    "Linear separator: Dot Product\n",
    "\n",
    "\n",
    "Linear Function from $R^4 -> R: f(x_1,x_2,x_3,x_4) = 3x_1 - 2x_3$\n",
    "\n",
    "$f(x_1,x_2,x_3,x_4) = (3,0,-2,0) * (x_1,x_2,x_3,x_4)$\n",
    "\n",
    "\n",
    "Linear Function from $R^4 -> R^3: f(x_1,x_2,x_3,x_4) = (4x_1 - x_2,x3, -x_1 + 6x_4)$\n",
    "\n",
    "\\begin{pmatrix}\n",
    "    x_1 \\\\\n",
    "    x_2 \\\\\n",
    "    x_3 \\\\\n",
    "    x_4\n",
    "\\end{pmatrix}\n",
    "\n",
    "->\n",
    "\n",
    "\\begin{pmatrix}\n",
    "    (4,-1,0,0) * x \\\\\n",
    "    (0,0,1,0) * x \\\\\n",
    "    (-1,0,0,6) * x\n",
    "\\end{pmatrix}\n"
   ]
  },
  {
   "cell_type": "markdown",
   "metadata": {
    "hidden": true
   },
   "source": [
    "Matrix-Vector Product"
   ]
  },
  {
   "cell_type": "markdown",
   "metadata": {
    "ExecuteTime": {
     "end_time": "2018-10-23T17:55:06.128052Z",
     "start_time": "2018-10-23T17:55:06.121069Z"
    },
    "hidden": true
   },
   "source": [
    "Identity matrix $I_d = (d x d)$ \n",
    "\n",
    "\\begin{Bmatrix} \n",
    "      1 & 0 & \\dots & 0 \\\\ \n",
    "      0 & 1 & \\dots & 0 \\\\ \n",
    "    \\vdots & \\vdots & \\ddots & \\vdots \\\\\n",
    "      0 & 0 & \\dots & 1 \n",
    "\\end{Bmatrix}"
   ]
  },
  {
   "cell_type": "markdown",
   "metadata": {
    "hidden": true
   },
   "source": [
    "Matrix-Matrix Product\n",
    "\n",
    "$r x k * k x p = r x p$"
   ]
  },
  {
   "cell_type": "markdown",
   "metadata": {
    "hidden": true
   },
   "source": [
    "\\begin{bmatrix} \n",
    "      1 & 2 & 3 \\\\ \n",
    "      4 & 5 & 6 \n",
    "\\end{bmatrix}\n",
    "\n",
    "(2 x 3)\n",
    "\n",
    "X\n",
    "\n",
    "\\begin{bmatrix}\n",
    "    1 & 0 \\\\\n",
    "    0 & 2 \\\\\n",
    "    -1 & 1\n",
    "\\end{bmatrix}\n",
    "\n",
    "(3 x 2)\n",
    "\n",
    "=\n",
    "\\begin{bmatrix}\n",
    "    -2 & 7 \\\\\n",
    "    -2 & 16\n",
    "\\end{bmatrix}\n",
    "\n",
    "If $A = Matrix^{rxk}$ and $B = Matrix^{kxp}$, then $AB$ is an $rxp$ Matrix with (i,j) entry\n",
    "\n",
    "$(AB)_{ij}$ = Dot product of ith row of A and the jth column of B"
   ]
  },
  {
   "cell_type": "markdown",
   "metadata": {
    "ExecuteTime": {
     "end_time": "2018-10-23T18:01:51.126165Z",
     "start_time": "2018-10-23T18:01:51.120180Z"
    },
    "hidden": true
   },
   "source": [
    "\\[ \\left( \\begin{array}{cc}\n",
    "1 & 0 \\\\\n",
    "0 & 1\n",
    "\\end{array} \\right)\n",
    "%\n",
    "\\left( \\begin{array}{cc}\n",
    "1 & 0 \\\\\n",
    "0 & 1\n",
    "\\end{array} \\right)\n",
    "\\]"
   ]
  },
  {
   "cell_type": "markdown",
   "metadata": {
    "heading_collapsed": true,
    "hidden": true
   },
   "source": [
    "#### Linear Algebra Review 3"
   ]
  },
  {
   "cell_type": "markdown",
   "metadata": {
    "hidden": true
   },
   "source": [
    "Square Matrix Properties:\n"
   ]
  },
  {
   "cell_type": "markdown",
   "metadata": {
    "hidden": true
   },
   "source": [
    "recall: for vector x: $x^Tx = ||x||^2$\n",
    "\n",
    "What about $x^TMx$ for arbitrary dxd Matrix M?\n",
    "\n",
    "sizes: $x^T$ 1xd * $M$ dxd * $x$ dx1 = 1x1\n",
    "\n",
    "= Sigma(i,j) $M_{ij}x_ix_j$"
   ]
  },
  {
   "cell_type": "markdown",
   "metadata": {
    "hidden": true
   },
   "source": [
    "$(x_{1},x_{2}) * ((1,2),(0,3)) * ((x_{1}),(x_{2})) =$\n",
    "\n",
    "$(x_{1},x_{2}) * ((x_{1} + 2x_{2}), (3x_{2})) =$ \n",
    "\n",
    "$((x^{2}_{1} + 2x_{1}x_{2})(3x_{2}^{2}))$"
   ]
  },
  {
   "cell_type": "markdown",
   "metadata": {
    "hidden": true
   },
   "source": [
    "Write the quadratic function $f(x_1,x_2) = x^2 + 2x_1x_2+ 3x_2^2$\n",
    "    - must be 2x2\n",
    "    - 1,1 = 1\n",
    "    - 2,2 = 3\n",
    "    - 1,2 + 2,1 = 2, meaning it could be [0,2], [1,1], [2,0]\n",
    "    \n",
    "Types of square matrices:\n",
    "- Symmetric: $M = M^T$\n",
    "    - if flipped along diagonal, remains the same\n",
    "\\begin{bmatrix}\n",
    "    1 & 2 & 3 \\\\\n",
    "    2 & 4 & 7 \\\\\n",
    "    3 & 7 & 0\n",
    "\\end{bmatrix}\n",
    "\n",
    "- Diagonal: $M = diag(m_{1},m_{2}...,m_{d})$\n",
    "\n",
    "$M = diag(1,4,3)$\n",
    "\\begin{bmatrix}\n",
    "    1 & 0 & 0 \\\\\n",
    "    0 & 4 & 0 \\\\\n",
    "    0 & 0 & 3\n",
    "\\end{bmatrix}\n",
    "\n",
    "\n",
    "Determinant of a square matrix\n",
    "\n",
    "Determinant of A = ((a,b),(c,d)) is |A| = ad - bc\n"
   ]
  },
  {
   "cell_type": "markdown",
   "metadata": {},
   "source": [
    "## W4"
   ]
  },
  {
   "cell_type": "code",
   "execution_count": null,
   "metadata": {},
   "outputs": [],
   "source": []
  }
 ],
 "metadata": {
  "kernelspec": {
   "display_name": "Python [default]",
   "language": "python",
   "name": "python3"
  },
  "language_info": {
   "codemirror_mode": {
    "name": "ipython",
    "version": 3
   },
   "file_extension": ".py",
   "mimetype": "text/x-python",
   "name": "python",
   "nbconvert_exporter": "python",
   "pygments_lexer": "ipython3",
   "version": "3.6.4"
  },
  "latex_envs": {
   "LaTeX_envs_menu_present": true,
   "autoclose": false,
   "autocomplete": true,
   "bibliofile": "biblio.bib",
   "cite_by": "apalike",
   "current_citInitial": 1,
   "eqLabelWithNumbers": true,
   "eqNumInitial": 1,
   "hotkeys": {
    "equation": "Ctrl-E",
    "itemize": "Ctrl-I"
   },
   "labels_anchors": false,
   "latex_user_defs": false,
   "report_style_numbering": false,
   "user_envs_cfg": false
  }
 },
 "nbformat": 4,
 "nbformat_minor": 2
}
